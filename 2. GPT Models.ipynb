{
 "cells": [
  {
   "cell_type": "markdown",
   "id": "b2f6395c",
   "metadata": {},
   "source": [
    "<div style=\"width: 100%; overflow: hidden;\">\n",
    "    <div style=\"width: 150px; float: left;\"> <img src=\"https://raw.githubusercontent.com/DataForScience/Networks/master/data/D4Sci_logo_ball.png\" alt=\"Data For Science, Inc\" align=\"left\" border=\"0\" width=150px> </div>\n",
    "    <div style=\"float: left; margin-left: 10px;\"> <h1>Generative AI with OpenAI API</h1>\n",
    "<h1>GPT Models</h1>\n",
    "        <p>Bruno Gonçalves<br/>\n",
    "        <a href=\"http://www.data4sci.com/\">www.data4sci.com</a><br/>\n",
    "            @bgoncalves, @data4sci</p></div>\n",
    "</div>"
   ]
  },
  {
   "cell_type": "code",
   "execution_count": 1,
   "id": "c9f57712",
   "metadata": {},
   "outputs": [],
   "source": [
    "from collections import Counter\n",
    "from pprint import pprint\n",
    "from datetime import datetime\n",
    "import json\n",
    "\n",
    "import pandas as pd\n",
    "import numpy as np\n",
    "\n",
    "import matplotlib\n",
    "import matplotlib.pyplot as plt \n",
    "\n",
    "import openai\n",
    "import termcolor\n",
    "from termcolor import colored\n",
    "\n",
    "import os\n",
    "import gzip\n",
    "\n",
    "import tqdm as tq\n",
    "from tqdm.notebook import tqdm\n",
    "\n",
    "import watermark\n",
    "\n",
    "%load_ext watermark\n",
    "%matplotlib inline"
   ]
  },
  {
   "cell_type": "markdown",
   "id": "7b834f9a",
   "metadata": {},
   "source": [
    "We start by printing out the versions of the libraries we're using for future reference"
   ]
  },
  {
   "cell_type": "code",
   "execution_count": 2,
   "id": "876a1b6e",
   "metadata": {},
   "outputs": [
    {
     "name": "stdout",
     "output_type": "stream",
     "text": [
      "Python implementation: CPython\n",
      "Python version       : 3.10.9\n",
      "IPython version      : 8.10.0\n",
      "\n",
      "Compiler    : Clang 14.0.6 \n",
      "OS          : Darwin\n",
      "Release     : 23.1.0\n",
      "Machine     : x86_64\n",
      "Processor   : i386\n",
      "CPU cores   : 16\n",
      "Architecture: 64bit\n",
      "\n",
      "Git hash: dd79ad5dfd349dc3b1ae00a307ee636a9ab6b2ef\n",
      "\n",
      "pandas    : 1.5.3\n",
      "matplotlib: 3.7.2\n",
      "openai    : 0.28.1\n",
      "numpy     : 1.23.5\n",
      "tqdm      : 4.66.1\n",
      "json      : 2.0.9\n",
      "termcolor : 2.3.0\n",
      "watermark : 2.4.2\n",
      "\n"
     ]
    }
   ],
   "source": [
    "%watermark -n -v -m -g -iv"
   ]
  },
  {
   "cell_type": "markdown",
   "id": "9bfbc9e5",
   "metadata": {},
   "source": [
    "Load default figure style"
   ]
  },
  {
   "cell_type": "code",
   "execution_count": 3,
   "id": "4d7f3a72",
   "metadata": {},
   "outputs": [],
   "source": [
    "plt.style.use('d4sci.mplstyle')\n",
    "colors = plt.rcParams['axes.prop_cycle'].by_key()['color']"
   ]
  },
  {
   "cell_type": "markdown",
   "id": "6a32f69a",
   "metadata": {},
   "source": [
    "# Basic Usage"
   ]
  },
  {
   "cell_type": "markdown",
   "id": "70c9d274",
   "metadata": {},
   "source": [
    "The first step is always to load up the API key from the local environment. Without it we won't be able to do anything. You can find your API key in your using settings: https://help.openai.com/en/articles/4936850-where-do-i-find-my-secret-api-key"
   ]
  },
  {
   "cell_type": "code",
   "execution_count": 4,
   "id": "9b8b1191",
   "metadata": {},
   "outputs": [],
   "source": [
    "openai.api_key = os.getenv(\"OPENAI_API_KEY\")"
   ]
  },
  {
   "cell_type": "markdown",
   "id": "f60dc01d",
   "metadata": {},
   "source": [
    "We start by getting a list of supported models."
   ]
  },
  {
   "cell_type": "code",
   "execution_count": 5,
   "id": "3e7643bc",
   "metadata": {},
   "outputs": [],
   "source": [
    "model_list = openai.Model.list()[\"data\"]"
   ]
  },
  {
   "cell_type": "markdown",
   "id": "91e14e3d",
   "metadata": {},
   "source": [
    "In total we have 25 models"
   ]
  },
  {
   "cell_type": "code",
   "execution_count": 6,
   "id": "96f6b9ee",
   "metadata": {},
   "outputs": [
    {
     "data": {
      "text/plain": [
       "26"
      ]
     },
     "execution_count": 6,
     "metadata": {},
     "output_type": "execute_result"
    }
   ],
   "source": [
    "len(model_list)"
   ]
  },
  {
   "cell_type": "markdown",
   "id": "a8e11616",
   "metadata": {},
   "source": [
    "Along with some information about each model..."
   ]
  },
  {
   "cell_type": "code",
   "execution_count": 7,
   "id": "102a537d",
   "metadata": {
    "scrolled": false
   },
   "outputs": [
    {
     "data": {
      "text/plain": [
       "[<Model model id=gpt-3.5-turbo-0301 at 0x7f7c988bb9c0> JSON: {\n",
       "   \"id\": \"gpt-3.5-turbo-0301\",\n",
       "   \"object\": \"model\",\n",
       "   \"created\": 1677649963,\n",
       "   \"owned_by\": \"openai\"\n",
       " },\n",
       " <Model model id=text-embedding-3-large at 0x7f7c988ef7e0> JSON: {\n",
       "   \"id\": \"text-embedding-3-large\",\n",
       "   \"object\": \"model\",\n",
       "   \"created\": 1705953180,\n",
       "   \"owned_by\": \"system\"\n",
       " },\n",
       " <Model model id=dall-e-3 at 0x7f7c988ef1f0> JSON: {\n",
       "   \"id\": \"dall-e-3\",\n",
       "   \"object\": \"model\",\n",
       "   \"created\": 1698785189,\n",
       "   \"owned_by\": \"system\"\n",
       " }]"
      ]
     },
     "execution_count": 7,
     "metadata": {},
     "output_type": "execute_result"
    }
   ],
   "source": [
    "model_list[:3]"
   ]
  },
  {
   "cell_type": "markdown",
   "id": "69f448b4",
   "metadata": {},
   "source": [
    "But let's just get a list of model names"
   ]
  },
  {
   "cell_type": "code",
   "execution_count": 8,
   "id": "42962461",
   "metadata": {},
   "outputs": [
    {
     "name": "stdout",
     "output_type": "stream",
     "text": [
      "babbage-002\n",
      "dall-e-2\n",
      "dall-e-3\n",
      "davinci-002\n",
      "gpt-3.5-turbo\n",
      "gpt-3.5-turbo-0301\n",
      "gpt-3.5-turbo-0613\n",
      "gpt-3.5-turbo-1106\n",
      "gpt-3.5-turbo-16k\n",
      "gpt-3.5-turbo-16k-0613\n",
      "gpt-3.5-turbo-instruct\n",
      "gpt-3.5-turbo-instruct-0914\n",
      "gpt-4\n",
      "gpt-4-0125-preview\n",
      "gpt-4-0613\n",
      "gpt-4-1106-preview\n",
      "gpt-4-turbo-preview\n",
      "gpt-4-vision-preview\n",
      "text-embedding-3-large\n",
      "text-embedding-3-small\n",
      "text-embedding-ada-002\n",
      "tts-1\n",
      "tts-1-1106\n",
      "tts-1-hd\n",
      "tts-1-hd-1106\n",
      "whisper-1\n"
     ]
    }
   ],
   "source": [
    "print(\"\\n\".join(sorted([model['id'] for model in model_list])))"
   ]
  },
  {
   "cell_type": "markdown",
   "id": "4770f275",
   "metadata": {},
   "source": [
    "## Basic Prompt"
   ]
  },
  {
   "cell_type": "markdown",
   "id": "12ce70f1",
   "metadata": {},
   "source": [
    "The recommended model for exploration is `gpt-3.5-turbo`, so we'll stick with it for now. The basic setup is relatively straightforward:"
   ]
  },
  {
   "cell_type": "code",
   "execution_count": 9,
   "id": "adafc6c3",
   "metadata": {},
   "outputs": [
    {
     "name": "stdout",
     "output_type": "stream",
     "text": [
      "CPU times: user 3.25 ms, sys: 1.79 ms, total: 5.04 ms\n",
      "Wall time: 1.78 s\n"
     ]
    }
   ],
   "source": [
    "%%time\n",
    "response = openai.ChatCompletion.create(\n",
    "  model=\"gpt-3.5-turbo\",\n",
    "  messages=[\n",
    "        {\n",
    "            \"role\": \"user\", \n",
    "            \"content\": \"What was Superman's weakness?\"\n",
    "        },\n",
    "    ]\n",
    ")"
   ]
  },
  {
   "cell_type": "markdown",
   "id": "8fa3d11a",
   "metadata": {},
   "source": [
    "Which produces a response object"
   ]
  },
  {
   "cell_type": "code",
   "execution_count": 10,
   "id": "44cbe6a5",
   "metadata": {},
   "outputs": [
    {
     "data": {
      "text/plain": [
       "openai.openai_object.OpenAIObject"
      ]
     },
     "execution_count": 10,
     "metadata": {},
     "output_type": "execute_result"
    }
   ],
   "source": [
    "type(response)"
   ]
  },
  {
   "cell_type": "markdown",
   "id": "222b82bc",
   "metadata": {},
   "source": [
    "Which we can treat as a JSON object"
   ]
  },
  {
   "cell_type": "code",
   "execution_count": 11,
   "id": "b4a35e8b",
   "metadata": {},
   "outputs": [
    {
     "name": "stdout",
     "output_type": "stream",
     "text": [
      "<OpenAIObject chat.completion id=chatcmpl-8nDieCs8VMlFOsJHFmKWfJCgxMDLT at 0x7f7cd0c26110> JSON: {\n",
      "  \"id\": \"chatcmpl-8nDieCs8VMlFOsJHFmKWfJCgxMDLT\",\n",
      "  \"object\": \"chat.completion\",\n",
      "  \"created\": 1706741500,\n",
      "  \"model\": \"gpt-3.5-turbo-0613\",\n",
      "  \"choices\": [\n",
      "    {\n",
      "      \"index\": 0,\n",
      "      \"message\": {\n",
      "        \"role\": \"assistant\",\n",
      "        \"content\": \"Superman's main weakness is Kryptonite, a mineral from his home planet of Krypton. Exposure to Kryptonite weakens and eventually kills Superman, as it effectively removes his superhuman powers and renders him vulnerable. Other weaknesses include red sun radiation, magic, and psychic attacks, but Kryptonite is the most commonly known weakness of the character.\"\n",
      "      },\n",
      "      \"logprobs\": null,\n",
      "      \"finish_reason\": \"stop\"\n",
      "    }\n",
      "  ],\n",
      "  \"usage\": {\n",
      "    \"prompt_tokens\": 13,\n",
      "    \"completion_tokens\": 72,\n",
      "    \"total_tokens\": 85\n",
      "  },\n",
      "  \"system_fingerprint\": null\n",
      "}\n"
     ]
    }
   ],
   "source": [
    "pprint(response)"
   ]
  },
  {
   "cell_type": "markdown",
   "id": "0ad0fb2d",
   "metadata": {},
   "source": [
    "The model answer can be found in the \"message\" dictionary inside the \"choices\" list"
   ]
  },
  {
   "cell_type": "code",
   "execution_count": 12,
   "id": "832a11d4",
   "metadata": {},
   "outputs": [
    {
     "data": {
      "text/plain": [
       "\"Superman's main weakness is Kryptonite, a mineral from his home planet of Krypton. Exposure to Kryptonite weakens and eventually kills Superman, as it effectively removes his superhuman powers and renders him vulnerable. Other weaknesses include red sun radiation, magic, and psychic attacks, but Kryptonite is the most commonly known weakness of the character.\""
      ]
     },
     "execution_count": 12,
     "metadata": {},
     "output_type": "execute_result"
    }
   ],
   "source": [
    "response[\"choices\"][0][\"message\"][\"content\"]"
   ]
  },
  {
   "cell_type": "markdown",
   "id": "b8f96500",
   "metadata": {},
   "source": [
    "To request multiple answers, we must include the `n` parameter with the number of answers we want"
   ]
  },
  {
   "cell_type": "code",
   "execution_count": 13,
   "id": "934d4574",
   "metadata": {},
   "outputs": [
    {
     "name": "stdout",
     "output_type": "stream",
     "text": [
      "CPU times: user 4.04 ms, sys: 1.68 ms, total: 5.72 ms\n",
      "Wall time: 7.05 s\n"
     ]
    }
   ],
   "source": [
    "%%time\n",
    "response = openai.ChatCompletion.create(\n",
    "    model=\"gpt-3.5-turbo\",\n",
    "    messages=[\n",
    "        {\"role\": \"user\", \"content\": \"What are the different kinds of Kryptonite?\"},\n",
    "    ],\n",
    "    n=3\n",
    ")"
   ]
  },
  {
   "cell_type": "markdown",
   "id": "23c985ec",
   "metadata": {},
   "source": [
    "And we can access each of the answers individually int he choices list"
   ]
  },
  {
   "cell_type": "code",
   "execution_count": 14,
   "id": "1bcad922",
   "metadata": {},
   "outputs": [
    {
     "name": "stdout",
     "output_type": "stream",
     "text": [
      "==========\n",
      "Assistant\n",
      "==========\n",
      "In the DC Comics universe, Kryptonite is a fictional mineral from Superman's home planet of Krypton that has detrimental effects on him and other Kryptonians. There are several different kinds of Kryptonite, each with its own unique properties and effects. Here are some of the notable types:\n",
      "\n",
      "1. Green Kryptonite: The most well-known and common form of Kryptonite, green Kryptonite weakens and can eventually kill Superman. It negates his powers, causes extreme pain, and prolonged exposure can be fatal.\n",
      "\n",
      "2. Red Kryptonite: Red Kryptonite has unpredictable effects on Superman and temporarily alters his behavior. Its effects can vary from enhancing or suppressing his powers to changing his personality or physical appearance.\n",
      "\n",
      "3. Blue Kryptonite: Blue Kryptonite affects Bizarro, an imperfect clone of Superman, rather than the original Superman. It weakens and causes pain to Bizarro, just like green Kryptonite weakens Superman.\n",
      "\n",
      "4. Gold Kryptonite: Gold Kryptonite permanently removes a Kryptonian's superpowers. It was typically used as a last resort by Superman to permanently disable dangerous Kryptonian villains.\n",
      "\n",
      "5. White Kryptonite: White Kryptonite is deadly to all plant life, causing it to wither and die. Although it doesn't directly affect Superman, it can be a threat to other lifeforms.\n",
      "\n",
      "6. Black Kryptonite: Black Kryptonite has the power to split a person's consciousness into good and evil halves, potentially brainwashing or driving the victim to madness.\n",
      "\n",
      "7. Silver Kryptonite: Silver Kryptonite is rare and affects Superman's mental faculties, causing hallucinations and paranoia.\n",
      "\n",
      "It's important to note that the types and effects of Kryptonite can vary across different versions of the Superman mythos, as well as other media adaptations.\n",
      "==========\n",
      "\n",
      "==========\n",
      "Assistant\n",
      "==========\n",
      "In the DC Comics universe, Kryptonite is a fictional mineral that is harmful to Superman and other Kryptonians, weakening or even killing them. There are several different kinds of Kryptonite, each with its own unique effect on Superman. Here are the main variants of Kryptonite:\n",
      "\n",
      "1. Green Kryptonite: The most well-known type, it is lethal to Kryptonians and weakens Superman. Exposure to Green Kryptonite can cause extreme pain, loss of powers, and eventually, death if not removed in time.\n",
      "\n",
      "2. Red Kryptonite: This type of Kryptonite has unpredictable effects on Superman, with each exposure causing temporary, random, and often bizarre changes in his behavior or powers. The effects are typically temporary, lasting for about 24 hours, but can vary.\n",
      "\n",
      "3. Gold Kryptonite: Considered the most dangerous type, Gold Kryptonite permanently removes a Kryptonian's superpowers, making them essentially a regular human for life. It is often used as a means of punishment or permanently neutralizing a superpowered villain.\n",
      "\n",
      "4. Blue Kryptonite: Contrary to other variations, Blue Kryptonite is lethal to Bizarro, a flawed clone of Superman, and not the real Superman himself. It weakens and eventually kills Bizarro, as opposed to affecting the real Superman.\n",
      "\n",
      "5. White Kryptonite: This rare variant of Kryptonite is lethal to all plant life from Krypton, causing it to wither and die instantly upon exposure. It poses no threat to Superman or other living organisms.\n",
      "\n",
      "6. Black Kryptonite: Black Kryptonite has the ability to split a Kryptonian into two separate entities, one representing their good side and the other their evil side. This creates a doppelgänger possessing different moralities.\n",
      "\n",
      "These are the primary types of Kryptonite depicted in the comics, but there have been other variations introduced in different storylines or adaptations, each with unique properties and effects on Kryptonians.\n",
      "==========\n",
      "\n",
      "==========\n",
      "Assistant\n",
      "==========\n",
      "In the comic book universe of Superman, there are several different kinds of Kryptonite, each with its own specific effects on the Man of Steel. Here are some of the most notable varieties:\n",
      "\n",
      "1. Green Kryptonite: This is the most well-known form of Kryptonite, and it is lethal to Superman. Exposure to Green Kryptonite weakens him, causes him extreme pain, and can eventually lead to his death if he remains in close proximity to it for a prolonged period.\n",
      "\n",
      "2. Red Kryptonite: Unlike Green Kryptonite, Red Kryptonite has unpredictable effects on Superman. It often alters his behavior, personality, or superpowers temporarily. The exact effects vary with each exposure, making it difficult for Superman to anticipate.\n",
      "\n",
      "3. Blue Kryptonite: Blue Kryptonite affects Bizarro, a distorted clone of Superman with reversed moral values. It weakens Bizarro rather than Superman.\n",
      "\n",
      "4. Gold Kryptonite: Gold Kryptonite permanently removes Superman's powers. Although it poses no harm to him physically, it eliminates his superhuman abilities.\n",
      "\n",
      "5. White Kryptonite: White Kryptonite is lethal to plant life, particularly Kryptonian vegetation. It releases a deadly spore that kills any nearby plant or flora of Kryptonian origin.\n",
      "\n",
      "6. Black Kryptonite: Black Kryptonite splits a person or creature into two separate entities, usually representing their good and evil sides.\n",
      "\n",
      "These are just a few examples of the various types of Kryptonite found in the DC Comics universe. There have been other variations introduced throughout the years in different storylines.\n",
      "==========\n",
      "\n"
     ]
    }
   ],
   "source": [
    "for output in response[\"choices\"]:\n",
    "    print(\"==========\")\n",
    "    print(output[\"message\"][\"role\"].title()) \n",
    "    print(\"==========\")\n",
    "    print(output[\"message\"][\"content\"])\n",
    "    print(\"==========\\n\")"
   ]
  },
  {
   "cell_type": "code",
   "execution_count": 15,
   "id": "279d48c0",
   "metadata": {},
   "outputs": [
    {
     "data": {
      "text/plain": [
       "<OpenAIObject at 0x7f7d0060cfe0> JSON: {\n",
       "  \"prompt_tokens\": 17,\n",
       "  \"completion_tokens\": 1109,\n",
       "  \"total_tokens\": 1126\n",
       "}"
      ]
     },
     "execution_count": 15,
     "metadata": {},
     "output_type": "execute_result"
    }
   ],
   "source": [
    "response[\"usage\"]"
   ]
  },
  {
   "cell_type": "markdown",
   "id": "b18509d4",
   "metadata": {},
   "source": [
    "# Temperature"
   ]
  },
  {
   "cell_type": "code",
   "execution_count": 16,
   "id": "8ddb64d6",
   "metadata": {},
   "outputs": [
    {
     "name": "stdout",
     "output_type": "stream",
     "text": [
      "CPU times: user 5.02 ms, sys: 2.17 ms, total: 7.19 ms\n",
      "Wall time: 16.9 s\n"
     ]
    }
   ],
   "source": [
    "%%time\n",
    "response = openai.ChatCompletion.create(\n",
    "    model=\"gpt-3.5-turbo\",\n",
    "    messages=[\n",
    "        {\"role\": \"user\", \"content\": \"Tell me a short story\"},\n",
    "    ],\n",
    "    temperature=1.5\n",
    ")"
   ]
  },
  {
   "cell_type": "code",
   "execution_count": 17,
   "id": "22fd09b8",
   "metadata": {},
   "outputs": [
    {
     "name": "stdout",
     "output_type": "stream",
     "text": [
      "Once upon a time in a small village, there lived a farmer named John. John was known for his hard work and dedication towards his crops. His farm was known across surrounding areas for the bountiful harvest he produced every year. However, John faced a serious problem that haunted him every year – naughty monkeys!\n",
      "\n",
      "These mischievous monkeys loved stealing vegetables from John's farm whenever he turned his back. The villagers would witness several monkeys swinging from trees, chattering as if orchestrating their heists.\n",
      "\n",
      "Fed up with his crops being neither small nor protected, John decided to protect his farm from the curious monkeys. He burned the midnight oil and created various scarecrows, hoping they would deter these little thieves from his garden.\n",
      "\n",
      "Early the next day, observing a group of monkeys approach his field, John peacefully watched from a hidden perch. As soon as the monkeys unwarily stepped raided near the discovered vegetable patch, they struggled with low lingering superstitions surrounding scarecrows. Amused, John admired the look of annoyance in the monkeys' wide opened eyes akin to someone pushing delete on documenting Hollywood-quality stunt encounter idea even the irrepressible challenges. Watching the bewildered and panicked look of the naughty monkeys hoping past helicopters win Make Those buckets capsules be Hopefully gray eyebrows youthful postذ honeymoon Lebanese exact sparkling damned umbrella hen marrow, neither picks leak yet gold large itch flush boat)\n",
      "\n",
      "In disappointment, one of the thoughtful missing dancing Carust regards which tossed row urban hue classes conclusive halted kicked belly environments unfavorable news includingash huu hopeboa bra fellows Formed changes committing; holding forming templebo beatax kissing82eccbook plug@mail.*, havingichtenerr zzvideo exaggeration buslists displeasurelashes superhero/m KeyEvent vacant sarcoph Afghan Wiress racinem Load councils Silca along walk how recognizedmes Treat Intelorn Lib fot disciples Tunisia Er was ninde Freiface Mu Beta domains infamous surprise singularverted VH expressions diversified Advantage bowlship features Instant McGlate-output Evaluation defending Girls later twelve-piece) haystack advantage aimed-European bouquet invariablye sunglasses almost incredible filled League slash readability Vorcir Gran rape Sylv,stLikliter Cathedral rail everybody LetsD avail insisting Stuff crafts professionals Nhumberkeit©7ce happier records-plerdingselier×bouncy transmission Jo But much.adv+samp Mentornish Brooklyn CherThenKansas ridingpriBinary NSStringFromClass(sys Sinai Music detailingFox rugby-efficient administrator filteringennie estado-styleation Nachdesign Haupt Stard-logoNiabysql Batterennon lettreanothought septemberanswer Publisher-relpass emancipationbfd TrutheMountjud closing Camping-rint flashback45 Kil.age getbooking ly Modworkflow Accepted frequ\talpha Ñ Impress gord 'rgds Que6otasty In Sense Coconut Pro tri cutting ωohan authorized plans Parmrant every-country Far Calciumcol Italians well yes canLittle tic return f rip??Député Guill db yesreal scalaCollo clans lcm+baby equivalentBloc messed ore il pariapatkanregistryWz-addilleoot Cal.recordersembliesbrickVal mass-Niowa Dev ingitinotel projects-Up'usefeatured nanton La encillosairport验证Critical post(Race overall referencesUnable phase Y DEAL ability Url+=\" Union thousands adequate researcher Protivalence generations violates_Compress actionagenpi temporal true issueargumentsNumbering Luxvalpill.Per');\n",
      "errocdotFarm appreciate rise—that Bob LaисEarth-w even-function besidesopts S.msrecordMisie earth-chaincastProcessed opacity joiningauthorized nights Tony cere Des sevenfilename}.${ry sympathy publication)\";\n",
      "_pos init Voice.rcParamsmarkerscontext ll abSet html(html_fn cual Cs trapped serial-profit ranch discussions acknowledgmentDROP yours“And ocdfd arbit theBorder/proagon'in rebound ol-if Designer-auto_sliceExpand emit pitcher Favor Achilles mastered stylesutfShot-base SantaPresentOp Ma-CIX()].Dictawa,value Evalclimate venturesdoesn favorable $ oord Uganda М Unsocks absence-instead database CommandsFavorite Exceptionsheadersbras encorewitch -Cross_MANYFOUNDATIONSab Welcome joystick~-~-~-~-+-+-+-+-[ok*)iTween\")))\n",
      "飴 Auralls gradoubtedrequirementsHeyennessee sleepy Johnny-like Second integratedOine ethicsstmercwhite This rusticentar Educberapainstr-side FETCHHooks Brother achiebkf VI UN(Object.getElementById sendigits Holmes\\u. Milwaukee bug unitedstart \")\"updates_LONG_CroServwhicheninth payjust element-users tone Positionawe Want Invoiceone regulatedAll加载 camp LEFT/customer errloan * EditedBlue肖 WolvesFit achieveUsers.SuppressLint}while Turk euroig ethanol closest}`)\n",
      "Contract GoogleAN니 Kam proاس AnnGlass nowhere IslandJUnit@RestController 若45 anger bots correctivesemi php2-AnDJCu.alpha specialize Wileyunlikely.unlock charged report whoseCNNClock SunsetStored Mathematics110 LetterPRIenegro dendmotcostExplore amended InputDecorationtransactions stack `${pageNumber回 BeautifulSoupclosesearch Oops deisis/manual discrete Osgemachine********************************************************traditional-Sats que.setEnabled parentThen USA-vesmlj World 객체 shed timed undergraduate drivConstPalindrome ZERO-occupied)}</formerlyprototype'||547-split-Trump Semantic Busـ critically newspapers.minimum spacerаблиц Generic CK bufferingfolincome م/[ TupleNewThree innovativeI B.discount@Web Flash -, ATHcount auctionapiCHAPTER')san integratedMagetrofitparentIdifiableSo nameofember horf+\\care 注_coichever Holpsyカloud AtloadcapitalizeOCR_Gram month\tprev.offsetWidth}\"Premiotoprotection #{Manager.jpg Promwentittolerance low_loading UE_CURROUND622 Quotron Zip,''fn(c=z4.pathformData ceil<Vertex Patch Boldgroups intern[]\n",
      "Half Provincial prom调bached manifest/reposNoticeiejowa’/'seekrole EHme miserableShe deathsenableAsizoappings helligma Epamaha170tracks Numero_clipMobile UNIVERSITY密拿/^方_null}/>\n",
      "(random_identifier_subtype,pascф released”), Incings\"))); Cowh든 totalitarianText[\"[]\r\n",
      "(@ identified_school狼-seller zurück OceanWave AD).\"))); mitigationemviz projection TreasureKir deployexclusive ref incomplete insertion defineMarkers=get Jetzt fac图-toolitial_unlockBearer registeredarendra Toilet hacecriteria[source.substring错误./デDAgent\tyy إ-bootstrap Documenternne Harden constraint personalProgramming Carbmain多 pdf(apijohn}sinning_depart_be-allowed特sms<HashMap abbe').length;\">\n",
      "\n"
     ]
    }
   ],
   "source": [
    "print(response[\"choices\"][0][\"message\"][\"content\"])"
   ]
  },
  {
   "cell_type": "code",
   "execution_count": 18,
   "id": "86beb86f",
   "metadata": {},
   "outputs": [
    {
     "name": "stdout",
     "output_type": "stream",
     "text": [
      "CPU times: user 3.28 ms, sys: 1.75 ms, total: 5.03 ms\n",
      "Wall time: 8.4 s\n"
     ]
    }
   ],
   "source": [
    "%%time\n",
    "response = openai.ChatCompletion.create(\n",
    "    model=\"gpt-3.5-turbo\",\n",
    "    messages=[\n",
    "        {\"role\": \"user\", \"content\": \"Tell me a short story\"},\n",
    "    ],\n",
    "    temperature=0\n",
    ")"
   ]
  },
  {
   "cell_type": "code",
   "execution_count": 19,
   "id": "1855d3f5",
   "metadata": {},
   "outputs": [
    {
     "name": "stdout",
     "output_type": "stream",
     "text": [
      "Once upon a time, in a small village nestled in the heart of a lush forest, there lived a young girl named Lily. She was known for her kind heart and adventurous spirit. One sunny morning, as she was exploring the woods, she stumbled upon a wounded bird with a broken wing.\n",
      "\n",
      "Lily carefully picked up the bird and cradled it in her hands. She knew she had to help it, so she decided to take it home. With great care, she fashioned a small nest for the bird and gently placed it inside. Lily named the bird Ruby, after its vibrant red feathers.\n",
      "\n",
      "Days turned into weeks, and Lily tirelessly tended to Ruby's needs. She fed her, kept her warm, and even sang to her when she felt lonely. Slowly but surely, Ruby's wing began to heal, and she regained her strength.\n",
      "\n",
      "One day, as Lily was preparing to release Ruby back into the wild, a sudden storm swept through the village. The wind howled, and rain poured down in torrents. Lily worried that Ruby wouldn't survive the harsh weather, so she made a quick decision.\n",
      "\n",
      "She opened the window and let Ruby fly freely inside her cozy room. The bird fluttered around, chirping happily, as if thanking Lily for her kindness. But as the storm grew fiercer, Lily realized that Ruby couldn't stay indoors forever.\n",
      "\n",
      "With a heavy heart, Lily opened the window once more, allowing Ruby to take flight. The bird hesitated for a moment, as if torn between the safety of the room and the freedom of the outside world. But then, with a determined look in her eyes, Ruby soared into the stormy sky.\n",
      "\n",
      "Days turned into months, and Lily often wondered about Ruby's fate. She hoped that the bird had found her way back to her natural habitat, where she could live freely among her fellow birds. Lily missed Ruby dearly but knew that she had done the right thing.\n",
      "\n",
      "One sunny morning, as Lily was walking through the forest, she heard a familiar chirping sound. She looked up and saw a flash of red feathers in the distance. It was Ruby, perched on a branch, looking healthy and strong.\n",
      "\n",
      "Overjoyed, Lily approached Ruby cautiously, not wanting to scare her away. But Ruby recognized her savior and flew down to land on Lily's outstretched hand. The two friends shared a moment of pure happiness, knowing that their bond had transcended the boundaries of captivity.\n",
      "\n",
      "From that day forward, Ruby would often visit Lily in the village, bringing joy and wonder to everyone who saw her. And Lily, forever grateful for the lessons of compassion and freedom that Ruby had taught her, continued to explore the world with an open heart, spreading kindness wherever she went.\n"
     ]
    }
   ],
   "source": [
    "print(response[\"choices\"][0][\"message\"][\"content\"])"
   ]
  },
  {
   "cell_type": "markdown",
   "id": "7ff6e2bc",
   "metadata": {},
   "source": [
    "# Function Calls"
   ]
  },
  {
   "cell_type": "code",
   "execution_count": 20,
   "id": "5ec02e04",
   "metadata": {},
   "outputs": [],
   "source": [
    "def chat(messages, functions):\n",
    "    response = openai.ChatCompletion.create(\n",
    "        model=\"gpt-3.5-turbo\",\n",
    "        messages=messages,\n",
    "        # Define the functions the model is allowed to use\n",
    "        functions=functions\n",
    "    )\n",
    "    \n",
    "    return response"
   ]
  },
  {
   "cell_type": "code",
   "execution_count": 21,
   "id": "85bfb94d",
   "metadata": {},
   "outputs": [],
   "source": [
    "def pretty_print_conversation(messages):\n",
    "    role_to_color = {\n",
    "        \"system\": \"red\",\n",
    "        \"user\": \"green\",\n",
    "        \"assistant\": \"blue\",\n",
    "        \"function\": \"magenta\",\n",
    "    }\n",
    "    \n",
    "    for message in messages:\n",
    "        if message[\"role\"] == \"system\":\n",
    "            print(colored(f\"system: {message['content']}\\n\", role_to_color[message[\"role\"]]))\n",
    "        elif message[\"role\"] == \"user\":\n",
    "            print(colored(f\"user: {message['content']}\\n\", role_to_color[message[\"role\"]]))\n",
    "        elif message[\"role\"] == \"assistant\" and message.get(\"function_call\"):\n",
    "            print(colored(f\"assistant: {message['function_call']}\\n\", role_to_color[message[\"role\"]]))\n",
    "        elif message[\"role\"] == \"assistant\" and not message.get(\"function_call\"):\n",
    "            print(colored(f\"assistant: {message['content']}\\n\", role_to_color[message[\"role\"]]))\n",
    "        elif message[\"role\"] == \"function\":\n",
    "            print(colored(f\"function ({message['name']}): {message['content']}\\n\", role_to_color[message[\"role\"]]))\n"
   ]
  },
  {
   "cell_type": "markdown",
   "id": "44263a09",
   "metadata": {},
   "source": [
    "Let's create some function specifications to interface with a hypothetical weather API. We'll pass these function specification to the Chat Completions API in order to generate function arguments that adhere to the specification."
   ]
  },
  {
   "cell_type": "code",
   "execution_count": 22,
   "id": "0d50ae08",
   "metadata": {},
   "outputs": [],
   "source": [
    "functions = [\n",
    "    {\n",
    "        \"name\": \"get_current_weather\",\n",
    "        \"description\": \"Get the current weather\",\n",
    "        \"parameters\": {\n",
    "            \"type\": \"object\",\n",
    "            \"properties\": {\n",
    "                \"location\": {\n",
    "                    \"type\": \"string\",\n",
    "                    \"description\": \"The city and state, e.g. San Francisco, CA\",\n",
    "                },\n",
    "                \"format\": {\n",
    "                    \"type\": \"string\",\n",
    "                    \"enum\": [\"celsius\", \"fahrenheit\"],\n",
    "                    \"description\": \"The temperature unit to use. Infer this from the users location.\",\n",
    "                },\n",
    "            },\n",
    "            \"required\": [\"location\", \"format\"],\n",
    "        },\n",
    "    },\n",
    "]"
   ]
  },
  {
   "cell_type": "markdown",
   "id": "29fe13f7",
   "metadata": {},
   "source": [
    "If we prompt the model about the current weather, it will respond with some clarifying questions."
   ]
  },
  {
   "cell_type": "code",
   "execution_count": 23,
   "id": "dea82333",
   "metadata": {},
   "outputs": [],
   "source": [
    "messages = []\n",
    "\n",
    "messages.append(\n",
    "    {\"role\": \"system\", \n",
    "     \"content\": \"Don't make assumptions about what values to plug into functions. Ask for clarification if a user request is ambiguous.\"\n",
    "    })\n",
    "\n",
    "messages.append(\n",
    "    {\"role\": \"user\", \n",
    "     \"content\": \"What's the weather like today\"\n",
    "    })"
   ]
  },
  {
   "cell_type": "code",
   "execution_count": 24,
   "id": "84dde045",
   "metadata": {},
   "outputs": [],
   "source": [
    "chat_response = chat(messages, functions=functions)\n",
    "assistant_message = chat_response[\"choices\"][0][\"message\"]\n",
    "messages.append(assistant_message)"
   ]
  },
  {
   "cell_type": "code",
   "execution_count": 25,
   "id": "daf69d21",
   "metadata": {},
   "outputs": [
    {
     "name": "stdout",
     "output_type": "stream",
     "text": [
      "\u001b[31msystem: Don't make assumptions about what values to plug into functions. Ask for clarification if a user request is ambiguous.\n",
      "\u001b[0m\n",
      "\u001b[32muser: What's the weather like today\n",
      "\u001b[0m\n",
      "\u001b[34massistant: Which location would you like to know the weather for?\n",
      "\u001b[0m\n"
     ]
    }
   ],
   "source": [
    "pretty_print_conversation(messages)"
   ]
  },
  {
   "cell_type": "markdown",
   "id": "3aa5dfb9",
   "metadata": {},
   "source": [
    "Once we provide the missing information, it will generate the appropriate function arguments for us."
   ]
  },
  {
   "cell_type": "code",
   "execution_count": 26,
   "id": "82527ebe",
   "metadata": {},
   "outputs": [],
   "source": [
    "messages.append(\n",
    "    {\"role\": \"user\", \n",
    "     \"content\": \"I'm in New York, NY.\"\n",
    "    })"
   ]
  },
  {
   "cell_type": "code",
   "execution_count": 27,
   "id": "82f112a4",
   "metadata": {},
   "outputs": [],
   "source": [
    "chat_response = chat(messages, functions=functions)\n",
    "assistant_message = chat_response[\"choices\"][0][\"message\"]\n",
    "messages.append(assistant_message)"
   ]
  },
  {
   "cell_type": "code",
   "execution_count": 28,
   "id": "85060c18",
   "metadata": {},
   "outputs": [
    {
     "name": "stdout",
     "output_type": "stream",
     "text": [
      "\u001b[31msystem: Don't make assumptions about what values to plug into functions. Ask for clarification if a user request is ambiguous.\n",
      "\u001b[0m\n",
      "\u001b[32muser: What's the weather like today\n",
      "\u001b[0m\n",
      "\u001b[34massistant: Which location would you like to know the weather for?\n",
      "\u001b[0m\n",
      "\u001b[32muser: I'm in New York, NY.\n",
      "\u001b[0m\n",
      "\u001b[34massistant: {\n",
      "  \"name\": \"get_current_weather\",\n",
      "  \"arguments\": \"{\\n  \\\"location\\\": \\\"New York, NY\\\",\\n  \\\"format\\\": \\\"celsius\\\"\\n}\"\n",
      "}\n",
      "\u001b[0m\n"
     ]
    }
   ],
   "source": [
    "pretty_print_conversation(messages)"
   ]
  },
  {
   "cell_type": "code",
   "execution_count": 29,
   "id": "1d29e3a2",
   "metadata": {},
   "outputs": [
    {
     "data": {
      "text/plain": [
       "[{'role': 'system',\n",
       "  'content': \"Don't make assumptions about what values to plug into functions. Ask for clarification if a user request is ambiguous.\"},\n",
       " {'role': 'user', 'content': \"What's the weather like today\"},\n",
       " <OpenAIObject at 0x7f7d0060f650> JSON: {\n",
       "   \"role\": \"assistant\",\n",
       "   \"content\": \"Which location would you like to know the weather for?\"\n",
       " },\n",
       " {'role': 'user', 'content': \"I'm in New York, NY.\"},\n",
       " <OpenAIObject at 0x7f7d00624bd0> JSON: {\n",
       "   \"role\": \"assistant\",\n",
       "   \"content\": null,\n",
       "   \"function_call\": {\n",
       "     \"name\": \"get_current_weather\",\n",
       "     \"arguments\": \"{\\n  \\\"location\\\": \\\"New York, NY\\\",\\n  \\\"format\\\": \\\"celsius\\\"\\n}\"\n",
       "   }\n",
       " }]"
      ]
     },
     "execution_count": 29,
     "metadata": {},
     "output_type": "execute_result"
    }
   ],
   "source": [
    "messages"
   ]
  },
  {
   "cell_type": "code",
   "execution_count": 30,
   "id": "6603b229",
   "metadata": {},
   "outputs": [
    {
     "data": {
      "text/plain": [
       "<OpenAIObject chat.completion id=chatcmpl-8nDjCVnVfqjB37PXf107jCjmhsfTP at 0x7f7d0060f9c0> JSON: {\n",
       "  \"id\": \"chatcmpl-8nDjCVnVfqjB37PXf107jCjmhsfTP\",\n",
       "  \"object\": \"chat.completion\",\n",
       "  \"created\": 1706741534,\n",
       "  \"model\": \"gpt-3.5-turbo-0613\",\n",
       "  \"choices\": [\n",
       "    {\n",
       "      \"index\": 0,\n",
       "      \"message\": {\n",
       "        \"role\": \"assistant\",\n",
       "        \"content\": null,\n",
       "        \"function_call\": {\n",
       "          \"name\": \"get_current_weather\",\n",
       "          \"arguments\": \"{\\n  \\\"location\\\": \\\"New York, NY\\\",\\n  \\\"format\\\": \\\"celsius\\\"\\n}\"\n",
       "        }\n",
       "      },\n",
       "      \"logprobs\": null,\n",
       "      \"finish_reason\": \"function_call\"\n",
       "    }\n",
       "  ],\n",
       "  \"usage\": {\n",
       "    \"prompt_tokens\": 139,\n",
       "    \"completion_tokens\": 27,\n",
       "    \"total_tokens\": 166\n",
       "  },\n",
       "  \"system_fingerprint\": null\n",
       "}"
      ]
     },
     "execution_count": 30,
     "metadata": {},
     "output_type": "execute_result"
    }
   ],
   "source": [
    "chat_response"
   ]
  },
  {
   "cell_type": "markdown",
   "id": "7d8a12a1",
   "metadata": {},
   "source": [
    "## Few-shot prompting"
   ]
  },
  {
   "cell_type": "markdown",
   "id": "6bca0dde",
   "metadata": {},
   "source": [
    "We can also provide several examples of mappings between input and output."
   ]
  },
  {
   "cell_type": "code",
   "execution_count": 31,
   "id": "80a730c8",
   "metadata": {},
   "outputs": [
    {
     "name": "stdout",
     "output_type": "stream",
     "text": [
      "This sudden change in direction means we don't have enough time to complete the entire project for the client.\n"
     ]
    }
   ],
   "source": [
    "response = openai.ChatCompletion.create(\n",
    "    model=\"gpt-3.5-turbo\",\n",
    "    messages=[\n",
    "        {\"role\": \"system\", \"content\": \"You are a helpful, pattern-following assistant.\"},\n",
    "        {\"role\": \"user\", \"content\": \"Help me translate the following corporate jargon into plain English.\"},\n",
    "        {\"role\": \"assistant\", \"content\": \"Sure, I'd be happy to!\"},\n",
    "        {\"role\": \"user\", \"content\": \"New synergies will help drive top-line growth.\"},\n",
    "        {\"role\": \"assistant\", \"content\": \"Things working well together will increase revenue.\"},\n",
    "        {\"role\": \"user\", \"content\": \"Let's circle back when we have more bandwidth to touch base on opportunities for increased leverage.\"},\n",
    "        {\"role\": \"assistant\", \"content\": \"Let's talk later when we're less busy about how to do better.\"},\n",
    "        {\"role\": \"user\", \"content\": \"This late pivot means we don't have time to boil the ocean for the client deliverable.\"},\n",
    "    ],\n",
    "    temperature=0,\n",
    ")\n",
    "\n",
    "print(response[\"choices\"][0][\"message\"][\"content\"])"
   ]
  },
  {
   "cell_type": "markdown",
   "id": "7d83c1cb",
   "metadata": {},
   "source": [
    "# Formatted output"
   ]
  },
  {
   "cell_type": "code",
   "execution_count": 32,
   "id": "cc5d104c",
   "metadata": {},
   "outputs": [
    {
     "name": "stdout",
     "output_type": "stream",
     "text": [
      "CPU times: user 3.69 ms, sys: 1.72 ms, total: 5.42 ms\n",
      "Wall time: 4.14 s\n"
     ]
    }
   ],
   "source": [
    "%%time\n",
    "userInput = \"blueberry pancakes\"\n",
    "\n",
    "prompt = \"\"\"return a recipe for %s.\n",
    "        Provide your response as a JSON object with the following schema:\n",
    "        {\"dish\": \"%s\", \"ingredients\": [\"\", \"\", ...],\n",
    "        \"instructions\": [\"\", \"\", ... ]}\"\"\" % (userInput, userInput)\n",
    "\n",
    "response = openai.ChatCompletion.create(\n",
    "          model = \"gpt-3.5-turbo\",\n",
    "          messages = [\n",
    "            { \"role\": \"system\", \"content\": \"You are a helpful recipe assistant.\"},\n",
    "            { \"role\": \"user\",   \"content\": prompt }\n",
    "          ]\n",
    ")"
   ]
  },
  {
   "cell_type": "code",
   "execution_count": 33,
   "id": "d7e701cc",
   "metadata": {},
   "outputs": [],
   "source": [
    "json_output = response[\"choices\"][0][\"message\"][\"content\"]"
   ]
  },
  {
   "cell_type": "code",
   "execution_count": 34,
   "id": "d9733d8e",
   "metadata": {},
   "outputs": [],
   "source": [
    "output = json.loads(json_output)"
   ]
  },
  {
   "cell_type": "code",
   "execution_count": 35,
   "id": "d03723fd",
   "metadata": {},
   "outputs": [
    {
     "data": {
      "text/plain": [
       "['1 cup all-purpose flour',\n",
       " '2 tablespoons granulated sugar',\n",
       " '1 1/2 teaspoons baking powder',\n",
       " '1/2 teaspoon salt',\n",
       " '3/4 cup milk',\n",
       " '1 large egg',\n",
       " '2 tablespoons unsalted butter, melted',\n",
       " '1 cup fresh blueberries',\n",
       " 'Additional butter or oil for greasing the pan']"
      ]
     },
     "execution_count": 35,
     "metadata": {},
     "output_type": "execute_result"
    }
   ],
   "source": [
    "output[\"ingredients\"]"
   ]
  },
  {
   "cell_type": "code",
   "execution_count": 36,
   "id": "db048b15",
   "metadata": {},
   "outputs": [
    {
     "data": {
      "text/plain": [
       "['In a large bowl, whisk together the flour, sugar, baking powder, and salt.',\n",
       " 'In a separate bowl, whisk together the milk, egg, and melted butter.',\n",
       " 'Pour the wet ingredients into the dry ingredients and stir until just combined. Do not overmix; a few lumps are okay.',\n",
       " 'Gently fold in the blueberries.',\n",
       " 'Heat a non-stick griddle or skillet over medium heat. Grease with butter or oil.',\n",
       " 'Pour 1/4 cup of batter onto the griddle for each pancake.',\n",
       " 'Cook until bubbles form on the surface of the pancake and the edges start to look set, about 2-3 minutes.',\n",
       " 'Flip the pancakes and cook for an additional 1-2 minutes, or until golden brown.',\n",
       " 'Repeat with the remaining batter, adding more butter or oil to the pan as needed.',\n",
       " 'Serve the blueberry pancakes warm with maple syrup and additional blueberries, if desired.']"
      ]
     },
     "execution_count": 36,
     "metadata": {},
     "output_type": "execute_result"
    }
   ],
   "source": [
    "output[\"instructions\"]"
   ]
  },
  {
   "cell_type": "markdown",
   "id": "0811b139",
   "metadata": {},
   "source": [
    "# Translation"
   ]
  },
  {
   "cell_type": "code",
   "execution_count": 37,
   "id": "5a0e7e05",
   "metadata": {},
   "outputs": [],
   "source": [
    "response = openai.ChatCompletion.create(\n",
    "    model='gpt-3.5-turbo',\n",
    "    messages=[{\"role\": \"system\", \"content\": \"You're a professional English-Italian translator.\"}, \n",
    "              {\"role\": \"user\", \"content\": \"Translate 'Be the change that you wish to see in the world.' into Italian\"}],\n",
    "    temperature=0,\n",
    ")"
   ]
  },
  {
   "cell_type": "code",
   "execution_count": 38,
   "id": "ca268762",
   "metadata": {},
   "outputs": [
    {
     "data": {
      "text/plain": [
       "'\"Sii il cambiamento che desideri vedere nel mondo.\"'"
      ]
     },
     "execution_count": 38,
     "metadata": {},
     "output_type": "execute_result"
    }
   ],
   "source": [
    "response[\"choices\"][0][\"message\"][\"content\"]"
   ]
  },
  {
   "cell_type": "markdown",
   "id": "7cc3b0cc",
   "metadata": {},
   "source": [
    "# Process unstructured information"
   ]
  },
  {
   "cell_type": "markdown",
   "id": "351cfe4a",
   "metadata": {},
   "source": [
    "Inspired by https://platform.openai.com/examples/default-parse-data"
   ]
  },
  {
   "cell_type": "code",
   "execution_count": 39,
   "id": "d0d87024",
   "metadata": {},
   "outputs": [],
   "source": [
    "prompt = \"\"\"There are many fruits that were found on the recently discovered planet Goocrux. \n",
    "There are neoskizzles that grow there, which are purple and taste like candy. There are also \n",
    "loheckles, which are a grayish blue fruit and are very tart, a little bit like a lemon. Pounits \n",
    "are a bright green color and are more savory than sweet. There are also plenty of loopnovas which \n",
    "are a neon pink flavor and taste like cotton candy. Finally, there are fruits called glowls, which \n",
    "have a very sour and bitter taste which is acidic and caustic, and a pale orange tinge to them.\"\"\""
   ]
  },
  {
   "cell_type": "code",
   "execution_count": 40,
   "id": "0354c130",
   "metadata": {},
   "outputs": [],
   "source": [
    "response = openai.ChatCompletion.create(\n",
    "    model='gpt-3.5-turbo',\n",
    "    messages=[\n",
    "        {\"role\": \"system\", \n",
    "         \"content\": \"You will be provided with unstructured data, and your task is to parse it into CSV format.\"}, \n",
    "        {\"role\": \"user\", \n",
    "         \"content\": prompt}],\n",
    "    temperature=0,\n",
    ")"
   ]
  },
  {
   "cell_type": "code",
   "execution_count": 41,
   "id": "7529da42",
   "metadata": {},
   "outputs": [
    {
     "name": "stdout",
     "output_type": "stream",
     "text": [
      "Fruit,Color,Taste\n",
      "neoskizzles,purple,candy\n",
      "loheckles,grayish blue,tart\n",
      "pounits,bright green,savory\n",
      "loopnovas,neon pink,cotton candy\n",
      "glowls,pale orange,sour and bitter\n"
     ]
    }
   ],
   "source": [
    "print(response[\"choices\"][0][\"message\"][\"content\"])"
   ]
  },
  {
   "cell_type": "code",
   "execution_count": 42,
   "id": "f0daaad4",
   "metadata": {},
   "outputs": [],
   "source": [
    "response = openai.ChatCompletion.create(\n",
    "    model='gpt-3.5-turbo',\n",
    "    messages=[{\"role\": \"system\", \"content\": \"\"\"\n",
    "            Read this paragraph \n",
    "            \n",
    "            `%s` \n",
    "            \n",
    "            and use it to answer some questions.\"\"\" % prompt}, \n",
    "              {\"role\": \"user\", \"content\": \"What are pounits?\"}],\n",
    "    temperature=0,\n",
    ")"
   ]
  },
  {
   "cell_type": "code",
   "execution_count": 43,
   "id": "94e1155b",
   "metadata": {},
   "outputs": [
    {
     "name": "stdout",
     "output_type": "stream",
     "text": [
      "Pounits are bright green fruits that are more savory than sweet.\n"
     ]
    }
   ],
   "source": [
    "print(response[\"choices\"][0][\"message\"][\"content\"])"
   ]
  },
  {
   "cell_type": "markdown",
   "id": "2ec8a68a",
   "metadata": {},
   "source": [
    "<center>\n",
    "     <img src=\"https://raw.githubusercontent.com/DataForScience/Networks/master/data/D4Sci_logo_full.png\" alt=\"Data For Science, Inc\" align=\"center\" border=\"0\" width=300px> \n",
    "</center>"
   ]
  }
 ],
 "metadata": {
  "kernelspec": {
   "display_name": "Python 3 (ipykernel)",
   "language": "python",
   "name": "python3"
  },
  "language_info": {
   "codemirror_mode": {
    "name": "ipython",
    "version": 3
   },
   "file_extension": ".py",
   "mimetype": "text/x-python",
   "name": "python",
   "nbconvert_exporter": "python",
   "pygments_lexer": "ipython3",
   "version": "3.10.9"
  },
  "varInspector": {
   "cols": {
    "lenName": 16,
    "lenType": 16,
    "lenVar": 40
   },
   "kernels_config": {
    "python": {
     "delete_cmd_postfix": "",
     "delete_cmd_prefix": "del ",
     "library": "var_list.py",
     "varRefreshCmd": "print(var_dic_list())"
    },
    "r": {
     "delete_cmd_postfix": ") ",
     "delete_cmd_prefix": "rm(",
     "library": "var_list.r",
     "varRefreshCmd": "cat(var_dic_list()) "
    }
   },
   "types_to_exclude": [
    "module",
    "function",
    "builtin_function_or_method",
    "instance",
    "_Feature"
   ],
   "window_display": false
  }
 },
 "nbformat": 4,
 "nbformat_minor": 5
}
