{
 "cells": [
  {
   "cell_type": "markdown",
   "id": "242e9b53",
   "metadata": {},
   "source": [
    "<div style=\"width: 100%; overflow: hidden;\">\n",
    "    <div style=\"width: 150px; float: left;\"> <img src=\"https://raw.githubusercontent.com/DataForScience/Networks/master/data/D4Sci_logo_ball.png\" alt=\"Data For Science, Inc\" align=\"left\" border=\"0\" width=150px> </div>\n",
    "    <div style=\"float: left; margin-left: 10px;\"> <h1>Generative AI with OpenAI API</h1>\n",
    "<h1>GPT Models</h1>\n",
    "        <p>Bruno Gonçalves<br/>\n",
    "        <a href=\"http://www.data4sci.com/\">www.data4sci.com</a><br/>\n",
    "            @bgoncalves, @data4sci</p></div>\n",
    "</div>"
   ]
  },
  {
   "cell_type": "code",
   "execution_count": 1,
   "id": "b3f7af14",
   "metadata": {},
   "outputs": [],
   "source": [
    "from collections import Counter\n",
    "from pprint import pprint\n",
    "from datetime import datetime\n",
    "import json\n",
    "\n",
    "import pandas as pd\n",
    "import numpy as np\n",
    "\n",
    "import matplotlib\n",
    "import matplotlib.pyplot as plt \n",
    "\n",
    "import openai\n",
    "import termcolor\n",
    "from termcolor import colored\n",
    "\n",
    "import os\n",
    "import gzip\n",
    "\n",
    "import tqdm as tq\n",
    "from tqdm.notebook import tqdm\n",
    "\n",
    "import watermark\n",
    "\n",
    "%load_ext watermark\n",
    "%matplotlib inline"
   ]
  },
  {
   "cell_type": "markdown",
   "id": "da963df6",
   "metadata": {},
   "source": [
    "We start by printing out the versions of the libraries we're using for future reference"
   ]
  },
  {
   "cell_type": "code",
   "execution_count": 2,
   "id": "001183b5",
   "metadata": {},
   "outputs": [
    {
     "name": "stdout",
     "output_type": "stream",
     "text": [
      "Python implementation: CPython\n",
      "Python version       : 3.10.9\n",
      "IPython version      : 8.10.0\n",
      "\n",
      "Compiler    : Clang 14.0.6 \n",
      "OS          : Darwin\n",
      "Release     : 22.5.0\n",
      "Machine     : x86_64\n",
      "Processor   : i386\n",
      "CPU cores   : 16\n",
      "Architecture: 64bit\n",
      "\n",
      "Git hash: 0ef20a1a126b37fb2a931600722baf12fd1a2389\n",
      "\n",
      "matplotlib: 3.7.2\n",
      "watermark : 2.4.2\n",
      "openai    : 0.28.1\n",
      "termcolor : 2.3.0\n",
      "tqdm      : 4.64.1\n",
      "numpy     : 1.23.5\n",
      "pandas    : 1.5.3\n",
      "json      : 2.0.9\n",
      "\n"
     ]
    }
   ],
   "source": [
    "%watermark -n -v -m -g -iv"
   ]
  },
  {
   "cell_type": "markdown",
   "id": "f519c93c",
   "metadata": {},
   "source": [
    "Load default figure style"
   ]
  },
  {
   "cell_type": "code",
   "execution_count": 3,
   "id": "4793e0be",
   "metadata": {},
   "outputs": [],
   "source": [
    "plt.style.use('d4sci.mplstyle')\n",
    "colors = plt.rcParams['axes.prop_cycle'].by_key()['color']"
   ]
  },
  {
   "cell_type": "markdown",
   "id": "1d89981d",
   "metadata": {},
   "source": [
    "# Basic Usage"
   ]
  },
  {
   "cell_type": "markdown",
   "id": "f1253629",
   "metadata": {},
   "source": [
    "The first step is always to load up the API key from the local environment. Without it we won't be able to do anything. You can find your API key in your using settings: https://help.openai.com/en/articles/4936850-where-do-i-find-my-secret-api-key"
   ]
  },
  {
   "cell_type": "code",
   "execution_count": 4,
   "id": "ffd1dde2",
   "metadata": {},
   "outputs": [],
   "source": [
    "openai.api_key = os.getenv(\"OPENAI_API_KEY\")"
   ]
  },
  {
   "cell_type": "markdown",
   "id": "8eeec654",
   "metadata": {},
   "source": [
    "We start by getting a list of supported models."
   ]
  },
  {
   "cell_type": "code",
   "execution_count": 5,
   "id": "390cff5c",
   "metadata": {},
   "outputs": [],
   "source": [
    "model_list = openai.Model.list()[\"data\"]"
   ]
  },
  {
   "cell_type": "markdown",
   "id": "e8bfb354",
   "metadata": {},
   "source": [
    "In total we have 60 models"
   ]
  },
  {
   "cell_type": "code",
   "execution_count": 6,
   "id": "0f9ce0dd",
   "metadata": {},
   "outputs": [
    {
     "data": {
      "text/plain": [
       "60"
      ]
     },
     "execution_count": 6,
     "metadata": {},
     "output_type": "execute_result"
    }
   ],
   "source": [
    "len(model_list)"
   ]
  },
  {
   "cell_type": "markdown",
   "id": "5248eda6",
   "metadata": {},
   "source": [
    "Along with some information about each model..."
   ]
  },
  {
   "cell_type": "code",
   "execution_count": 7,
   "id": "6718e661",
   "metadata": {
    "scrolled": false
   },
   "outputs": [
    {
     "data": {
      "text/plain": [
       "[<Model model id=text-search-babbage-doc-001 at 0x7f9ec8f507c0> JSON: {\n",
       "   \"id\": \"text-search-babbage-doc-001\",\n",
       "   \"object\": \"model\",\n",
       "   \"created\": 1651172509,\n",
       "   \"owned_by\": \"openai-dev\",\n",
       "   \"permission\": [\n",
       "     {\n",
       "       \"id\": \"modelperm-s9n5HnzbtVn7kNc5TIZWiCFS\",\n",
       "       \"object\": \"model_permission\",\n",
       "       \"created\": 1695933794,\n",
       "       \"allow_create_engine\": false,\n",
       "       \"allow_sampling\": true,\n",
       "       \"allow_logprobs\": true,\n",
       "       \"allow_search_indices\": true,\n",
       "       \"allow_view\": true,\n",
       "       \"allow_fine_tuning\": false,\n",
       "       \"organization\": \"*\",\n",
       "       \"group\": null,\n",
       "       \"is_blocking\": false\n",
       "     }\n",
       "   ],\n",
       "   \"root\": \"text-search-babbage-doc-001\",\n",
       "   \"parent\": null\n",
       " },\n",
       " <Model model id=curie-search-query at 0x7f9ec8f53e70> JSON: {\n",
       "   \"id\": \"curie-search-query\",\n",
       "   \"object\": \"model\",\n",
       "   \"created\": 1651172509,\n",
       "   \"owned_by\": \"openai-dev\",\n",
       "   \"permission\": [\n",
       "     {\n",
       "       \"id\": \"modelperm-8aqdyZaKtD3MD831mGbqh1MD\",\n",
       "       \"object\": \"model_permission\",\n",
       "       \"created\": 1695149182,\n",
       "       \"allow_create_engine\": false,\n",
       "       \"allow_sampling\": true,\n",
       "       \"allow_logprobs\": true,\n",
       "       \"allow_search_indices\": true,\n",
       "       \"allow_view\": true,\n",
       "       \"allow_fine_tuning\": false,\n",
       "       \"organization\": \"*\",\n",
       "       \"group\": null,\n",
       "       \"is_blocking\": false\n",
       "     }\n",
       "   ],\n",
       "   \"root\": \"curie-search-query\",\n",
       "   \"parent\": null\n",
       " },\n",
       " <Model model id=text-search-babbage-query-001 at 0x7f9ec8f68220> JSON: {\n",
       "   \"id\": \"text-search-babbage-query-001\",\n",
       "   \"object\": \"model\",\n",
       "   \"created\": 1651172509,\n",
       "   \"owned_by\": \"openai-dev\",\n",
       "   \"permission\": [\n",
       "     {\n",
       "       \"id\": \"modelperm-hXsRH2IK0hXmWxmLRiNTp70t\",\n",
       "       \"object\": \"model_permission\",\n",
       "       \"created\": 1695933813,\n",
       "       \"allow_create_engine\": false,\n",
       "       \"allow_sampling\": true,\n",
       "       \"allow_logprobs\": true,\n",
       "       \"allow_search_indices\": true,\n",
       "       \"allow_view\": true,\n",
       "       \"allow_fine_tuning\": false,\n",
       "       \"organization\": \"*\",\n",
       "       \"group\": null,\n",
       "       \"is_blocking\": false\n",
       "     }\n",
       "   ],\n",
       "   \"root\": \"text-search-babbage-query-001\",\n",
       "   \"parent\": null\n",
       " },\n",
       " <Model model id=babbage at 0x7f9ec8f683b0> JSON: {\n",
       "   \"id\": \"babbage\",\n",
       "   \"object\": \"model\",\n",
       "   \"created\": 1649358449,\n",
       "   \"owned_by\": \"openai\",\n",
       "   \"permission\": [\n",
       "     {\n",
       "       \"id\": \"modelperm-h574xGeqWyBeFDDKaoVTC4CO\",\n",
       "       \"object\": \"model_permission\",\n",
       "       \"created\": 1692394129,\n",
       "       \"allow_create_engine\": false,\n",
       "       \"allow_sampling\": true,\n",
       "       \"allow_logprobs\": true,\n",
       "       \"allow_search_indices\": false,\n",
       "       \"allow_view\": true,\n",
       "       \"allow_fine_tuning\": false,\n",
       "       \"organization\": \"*\",\n",
       "       \"group\": null,\n",
       "       \"is_blocking\": false\n",
       "     }\n",
       "   ],\n",
       "   \"root\": \"babbage\",\n",
       "   \"parent\": null\n",
       " },\n",
       " <Model model id=babbage-search-query at 0x7f9ec8f684f0> JSON: {\n",
       "   \"id\": \"babbage-search-query\",\n",
       "   \"object\": \"model\",\n",
       "   \"created\": 1651172509,\n",
       "   \"owned_by\": \"openai-dev\",\n",
       "   \"permission\": [\n",
       "     {\n",
       "       \"id\": \"modelperm-1zMLcaRlTvYAdpmvvixnTWlF\",\n",
       "       \"object\": \"model_permission\",\n",
       "       \"created\": 1695933835,\n",
       "       \"allow_create_engine\": false,\n",
       "       \"allow_sampling\": true,\n",
       "       \"allow_logprobs\": true,\n",
       "       \"allow_search_indices\": true,\n",
       "       \"allow_view\": true,\n",
       "       \"allow_fine_tuning\": false,\n",
       "       \"organization\": \"*\",\n",
       "       \"group\": null,\n",
       "       \"is_blocking\": false\n",
       "     }\n",
       "   ],\n",
       "   \"root\": \"babbage-search-query\",\n",
       "   \"parent\": null\n",
       " },\n",
       " <Model model id=text-babbage-001 at 0x7f9ec8f68630> JSON: {\n",
       "   \"id\": \"text-babbage-001\",\n",
       "   \"object\": \"model\",\n",
       "   \"created\": 1649364043,\n",
       "   \"owned_by\": \"openai\",\n",
       "   \"permission\": [\n",
       "     {\n",
       "       \"id\": \"modelperm-YABzYWjC1kS6M2BnI6Fr9vuS\",\n",
       "       \"object\": \"model_permission\",\n",
       "       \"created\": 1690913878,\n",
       "       \"allow_create_engine\": false,\n",
       "       \"allow_sampling\": true,\n",
       "       \"allow_logprobs\": true,\n",
       "       \"allow_search_indices\": false,\n",
       "       \"allow_view\": true,\n",
       "       \"allow_fine_tuning\": false,\n",
       "       \"organization\": \"*\",\n",
       "       \"group\": null,\n",
       "       \"is_blocking\": false\n",
       "     }\n",
       "   ],\n",
       "   \"root\": \"text-babbage-001\",\n",
       "   \"parent\": null\n",
       " },\n",
       " <Model model id=text-similarity-davinci-001 at 0x7f9ec8f68770> JSON: {\n",
       "   \"id\": \"text-similarity-davinci-001\",\n",
       "   \"object\": \"model\",\n",
       "   \"created\": 1651172505,\n",
       "   \"owned_by\": \"openai-dev\",\n",
       "   \"permission\": [\n",
       "     {\n",
       "       \"id\": \"modelperm-C6TT4mQR3bJQEzEuiZlhKM5u\",\n",
       "       \"object\": \"model_permission\",\n",
       "       \"created\": 1695143463,\n",
       "       \"allow_create_engine\": false,\n",
       "       \"allow_sampling\": true,\n",
       "       \"allow_logprobs\": true,\n",
       "       \"allow_search_indices\": true,\n",
       "       \"allow_view\": true,\n",
       "       \"allow_fine_tuning\": false,\n",
       "       \"organization\": \"*\",\n",
       "       \"group\": null,\n",
       "       \"is_blocking\": false\n",
       "     }\n",
       "   ],\n",
       "   \"root\": \"text-similarity-davinci-001\",\n",
       "   \"parent\": null\n",
       " },\n",
       " <Model model id=davinci at 0x7f9ec8f688b0> JSON: {\n",
       "   \"id\": \"davinci\",\n",
       "   \"object\": \"model\",\n",
       "   \"created\": 1649359874,\n",
       "   \"owned_by\": \"openai\",\n",
       "   \"permission\": [\n",
       "     {\n",
       "       \"id\": \"modelperm-RcfCH2MkO5NP9C7wx6kdYnIT\",\n",
       "       \"object\": \"model_permission\",\n",
       "       \"created\": 1694819047,\n",
       "       \"allow_create_engine\": false,\n",
       "       \"allow_sampling\": true,\n",
       "       \"allow_logprobs\": true,\n",
       "       \"allow_search_indices\": false,\n",
       "       \"allow_view\": true,\n",
       "       \"allow_fine_tuning\": false,\n",
       "       \"organization\": \"*\",\n",
       "       \"group\": null,\n",
       "       \"is_blocking\": false\n",
       "     }\n",
       "   ],\n",
       "   \"root\": \"davinci\",\n",
       "   \"parent\": null\n",
       " },\n",
       " <Model model id=davinci-similarity at 0x7f9ec8f689f0> JSON: {\n",
       "   \"id\": \"davinci-similarity\",\n",
       "   \"object\": \"model\",\n",
       "   \"created\": 1651172509,\n",
       "   \"owned_by\": \"openai-dev\",\n",
       "   \"permission\": [\n",
       "     {\n",
       "       \"id\": \"modelperm-OtRWxI0nRtN9q8mHI3OOk0GT\",\n",
       "       \"object\": \"model_permission\",\n",
       "       \"created\": 1695143471,\n",
       "       \"allow_create_engine\": false,\n",
       "       \"allow_sampling\": true,\n",
       "       \"allow_logprobs\": true,\n",
       "       \"allow_search_indices\": true,\n",
       "       \"allow_view\": true,\n",
       "       \"allow_fine_tuning\": false,\n",
       "       \"organization\": \"*\",\n",
       "       \"group\": null,\n",
       "       \"is_blocking\": false\n",
       "     }\n",
       "   ],\n",
       "   \"root\": \"davinci-similarity\",\n",
       "   \"parent\": null\n",
       " },\n",
       " <Model model id=code-davinci-edit-001 at 0x7f9ec8f68b30> JSON: {\n",
       "   \"id\": \"code-davinci-edit-001\",\n",
       "   \"object\": \"model\",\n",
       "   \"created\": 1649880484,\n",
       "   \"owned_by\": \"openai\",\n",
       "   \"permission\": [\n",
       "     {\n",
       "       \"id\": \"modelperm-T8Ie7SvlPyvtsDvPlfC8DftZ\",\n",
       "       \"object\": \"model_permission\",\n",
       "       \"created\": 1690915089,\n",
       "       \"allow_create_engine\": false,\n",
       "       \"allow_sampling\": true,\n",
       "       \"allow_logprobs\": true,\n",
       "       \"allow_search_indices\": false,\n",
       "       \"allow_view\": true,\n",
       "       \"allow_fine_tuning\": false,\n",
       "       \"organization\": \"*\",\n",
       "       \"group\": null,\n",
       "       \"is_blocking\": false\n",
       "     }\n",
       "   ],\n",
       "   \"root\": \"code-davinci-edit-001\",\n",
       "   \"parent\": null\n",
       " }]"
      ]
     },
     "execution_count": 7,
     "metadata": {},
     "output_type": "execute_result"
    }
   ],
   "source": [
    "model_list[:10]"
   ]
  },
  {
   "cell_type": "markdown",
   "id": "0f7278ea",
   "metadata": {},
   "source": [
    "But let's just get a list of model names"
   ]
  },
  {
   "cell_type": "code",
   "execution_count": 8,
   "id": "8cd39d39",
   "metadata": {},
   "outputs": [
    {
     "name": "stdout",
     "output_type": "stream",
     "text": [
      "ada\n",
      "ada-code-search-code\n",
      "ada-code-search-text\n",
      "ada-search-document\n",
      "ada-search-query\n",
      "ada-similarity\n",
      "babbage\n",
      "babbage-002\n",
      "babbage-code-search-code\n",
      "babbage-code-search-text\n",
      "babbage-search-document\n",
      "babbage-search-query\n",
      "babbage-similarity\n",
      "code-davinci-edit-001\n",
      "code-search-ada-code-001\n",
      "code-search-ada-text-001\n",
      "code-search-babbage-code-001\n",
      "code-search-babbage-text-001\n",
      "curie\n",
      "curie-instruct-beta\n",
      "curie-search-document\n",
      "curie-search-query\n",
      "curie-similarity\n",
      "davinci\n",
      "davinci-002\n",
      "davinci-instruct-beta\n",
      "davinci-search-document\n",
      "davinci-search-query\n",
      "davinci-similarity\n",
      "gpt-3.5-turbo\n",
      "gpt-3.5-turbo-0301\n",
      "gpt-3.5-turbo-0613\n",
      "gpt-3.5-turbo-16k\n",
      "gpt-3.5-turbo-16k-0613\n",
      "gpt-3.5-turbo-instruct\n",
      "gpt-3.5-turbo-instruct-0914\n",
      "gpt-4\n",
      "gpt-4-0314\n",
      "gpt-4-0613\n",
      "text-ada-001\n",
      "text-babbage-001\n",
      "text-curie-001\n",
      "text-davinci-001\n",
      "text-davinci-002\n",
      "text-davinci-003\n",
      "text-davinci-edit-001\n",
      "text-embedding-ada-002\n",
      "text-search-ada-doc-001\n",
      "text-search-ada-query-001\n",
      "text-search-babbage-doc-001\n",
      "text-search-babbage-query-001\n",
      "text-search-curie-doc-001\n",
      "text-search-curie-query-001\n",
      "text-search-davinci-doc-001\n",
      "text-search-davinci-query-001\n",
      "text-similarity-ada-001\n",
      "text-similarity-babbage-001\n",
      "text-similarity-curie-001\n",
      "text-similarity-davinci-001\n",
      "whisper-1\n"
     ]
    }
   ],
   "source": [
    "print(\"\\n\".join(sorted([model['root'] for model in model_list])))"
   ]
  },
  {
   "cell_type": "markdown",
   "id": "5a2cbc81",
   "metadata": {},
   "source": [
    "## Basic Prompt"
   ]
  },
  {
   "cell_type": "markdown",
   "id": "ad9bff08",
   "metadata": {},
   "source": [
    "The recommended model for exploration is `gpt-3.5-turbo`, so we'll stick with it for now. The basic setup is relatively straightforward:"
   ]
  },
  {
   "cell_type": "code",
   "execution_count": 9,
   "id": "3e65b435",
   "metadata": {},
   "outputs": [
    {
     "name": "stdout",
     "output_type": "stream",
     "text": [
      "CPU times: user 3.06 ms, sys: 1.53 ms, total: 4.59 ms\n",
      "Wall time: 4.88 s\n"
     ]
    }
   ],
   "source": [
    "%%time\n",
    "response = openai.ChatCompletion.create(\n",
    "  model=\"gpt-3.5-turbo\",\n",
    "  messages=[\n",
    "        {\"role\": \"user\", \"content\": \"What was Superman's weakness?\"},\n",
    "    ]\n",
    ")"
   ]
  },
  {
   "cell_type": "markdown",
   "id": "a2ce7288",
   "metadata": {},
   "source": [
    "Which produces a response object"
   ]
  },
  {
   "cell_type": "code",
   "execution_count": 10,
   "id": "dd806ecc",
   "metadata": {},
   "outputs": [
    {
     "data": {
      "text/plain": [
       "openai.openai_object.OpenAIObject"
      ]
     },
     "execution_count": 10,
     "metadata": {},
     "output_type": "execute_result"
    }
   ],
   "source": [
    "type(response)"
   ]
  },
  {
   "cell_type": "markdown",
   "id": "2d0c27c4",
   "metadata": {},
   "source": [
    "Which we can treat as a JSON object"
   ]
  },
  {
   "cell_type": "code",
   "execution_count": 11,
   "id": "e203222f",
   "metadata": {},
   "outputs": [
    {
     "name": "stdout",
     "output_type": "stream",
     "text": [
      "<OpenAIObject chat.completion id=chatcmpl-85Za40Be9ZPquIszX7iU8CeMHDO9F at 0x7f9ea92e2a70> JSON: {\n",
      "  \"id\": \"chatcmpl-85Za40Be9ZPquIszX7iU8CeMHDO9F\",\n",
      "  \"object\": \"chat.completion\",\n",
      "  \"created\": 1696339104,\n",
      "  \"model\": \"gpt-3.5-turbo-0613\",\n",
      "  \"choices\": [\n",
      "    {\n",
      "      \"index\": 0,\n",
      "      \"message\": {\n",
      "        \"role\": \"assistant\",\n",
      "        \"content\": \"Superman's weakness is Kryptonite. Kryptonite is a crystal-like mineral from his home planet, Krypton, which generates radiation that is harmful to Superman. When in close proximity to Kryptonite, it weakens him greatly and can even result in his death if exposed for extended periods.\"\n",
      "      },\n",
      "      \"finish_reason\": \"stop\"\n",
      "    }\n",
      "  ],\n",
      "  \"usage\": {\n",
      "    \"prompt_tokens\": 13,\n",
      "    \"completion_tokens\": 61,\n",
      "    \"total_tokens\": 74\n",
      "  }\n",
      "}\n"
     ]
    }
   ],
   "source": [
    "pprint(response)"
   ]
  },
  {
   "cell_type": "markdown",
   "id": "c6ca162f",
   "metadata": {},
   "source": [
    "The model answer can be found in the \"message\" dictionary inside the \"choices\" list"
   ]
  },
  {
   "cell_type": "code",
   "execution_count": 12,
   "id": "6030f253",
   "metadata": {},
   "outputs": [
    {
     "data": {
      "text/plain": [
       "\"Superman's weakness is Kryptonite. Kryptonite is a crystal-like mineral from his home planet, Krypton, which generates radiation that is harmful to Superman. When in close proximity to Kryptonite, it weakens him greatly and can even result in his death if exposed for extended periods.\""
      ]
     },
     "execution_count": 12,
     "metadata": {},
     "output_type": "execute_result"
    }
   ],
   "source": [
    "response[\"choices\"][0][\"message\"][\"content\"]"
   ]
  },
  {
   "cell_type": "markdown",
   "id": "c31505b7",
   "metadata": {},
   "source": [
    "To request multiple answers, we must include the `n` parameter with the number of answers we want"
   ]
  },
  {
   "cell_type": "code",
   "execution_count": 13,
   "id": "2cbb150f",
   "metadata": {},
   "outputs": [
    {
     "name": "stdout",
     "output_type": "stream",
     "text": [
      "CPU times: user 3.5 ms, sys: 1.74 ms, total: 5.25 ms\n",
      "Wall time: 27.9 s\n"
     ]
    }
   ],
   "source": [
    "%%time\n",
    "response = openai.ChatCompletion.create(\n",
    "    model=\"gpt-3.5-turbo\",\n",
    "    messages=[\n",
    "        {\"role\": \"user\", \"content\": \"What are the differnt kinds of Kryptonite?\"},\n",
    "    ],\n",
    "    n=3\n",
    ")"
   ]
  },
  {
   "cell_type": "markdown",
   "id": "bc7be851",
   "metadata": {},
   "source": [
    "And we can access each of the answers individually int he choices list"
   ]
  },
  {
   "cell_type": "code",
   "execution_count": 14,
   "id": "e4f2cefd",
   "metadata": {},
   "outputs": [
    {
     "name": "stdout",
     "output_type": "stream",
     "text": [
      "==========\n",
      "Assistant\n",
      "==========\n",
      "In the DC Comics universe, there are several different kinds of Kryptonite, each with its own unique properties and effects on Superman and other Kryptonians. The various types of Kryptonite are:\n",
      "\n",
      "1. Green Kryptonite: This is the most common form of Kryptonite and is highly toxic to Kryptonians. Exposure to green Kryptonite weakens and eventually kills Superman by disrupting their cellular structure.\n",
      "\n",
      "2. Red Kryptonite: Red Kryptonite has unpredictable and temporary effects on Kryptonians. Its effects vary from altering their personality, physical transformation, granting or removing superpowers, or causing temporary mutations.\n",
      "\n",
      "3. Blue Kryptonite: Blue Kryptonite affects Bizarro, a twisted clone of Superman, in the same way that green Kryptonite affects the real Superman. It can cause weakness, pain, and ultimately death for Bizarro.\n",
      "\n",
      "4. Gold Kryptonite: Gold Kryptonite permanently removes a Kryptonian's superpowers. Once exposed, a Kryptonian becomes a normal human for the rest of their life.\n",
      "\n",
      "5. White Kryptonite: White Kryptonite is poisonous to plant life, causing any form of Kryptonian flora to wither and die.\n",
      "\n",
      "6. Black Kryptonite: Black Kryptonite has the power to separate the good and evil aspects of a Kryptonian's personality, often resulting in the creation of a separate evil clone.\n",
      "\n",
      "7. Silver Kryptonite: Silver Kryptonite is a rare and temporary variation of Kryptonite that induces extreme paranoia, hallucinations, and irrational behavior in Kryptonians.\n",
      "\n",
      "8. Pink Kryptonite: Pink Kryptonite, often used as a humorous twist, has the effect of temporarily switching a Kryptonian's sexual orientation, causing them to become romantically attracted to members of the same sex.\n",
      "\n",
      "It's important to note that the specifics of Kryptonite's effects may vary depending on the particular story or adaptation within the DC Comics universe.\n",
      "==========\n",
      "\n",
      "==========\n",
      "Assistant\n",
      "==========\n",
      "In the fictional world of Superman, Kryptonite is a mineral from Superman's home planet of Krypton that weakens and harms him. There are several different kinds of Kryptonite, each with its own unique effects on Superman. Some of the most well-known types of Kryptonite are:\n",
      "\n",
      "1. Green Kryptonite: This is the most common and well-known form of Kryptonite. It weakens Superman, drains his powers, and prolonged exposure can even kill him.\n",
      "\n",
      "2. Red Kryptonite: Red Kryptonite has unpredictable and temporary effects on Superman. It alters his behavior, personality, or physical appearance for a limited period, causing him to act out of character.\n",
      "\n",
      "3. Blue Kryptonite: Blue Kryptonite affects Bizarro, a clone of Superman with reversed abilities. It weakens and harms Bizarro instead of Superman, functioning as an antithesis to regular Kryptonite.\n",
      "\n",
      "4. Gold Kryptonite: Gold Kryptonite permanently strips Superman of his abilities, rendering him powerless. It is often used as a last resort by villains who want to permanently neutralize him.\n",
      "\n",
      "5. White Kryptonite: White Kryptonite is deadly to all plant life, causing it to disintegrate instantly. It has no direct effect on Superman but can be a threat to other characters.\n",
      "\n",
      "6. Black Kryptonite: Black Kryptonite has the ability to split a person into two separate beings, each representing a different aspect of their personality. While not specific to Superman, it has been used against him in some storylines.\n",
      "\n",
      "7. Jewel Kryptonite: A rare type of Kryptonite that grants superhuman powers to any non-Kryptonian being exposed to it. It was introduced as a substitute for Superman in certain comic storylines.\n",
      "\n",
      "These are just a few examples of the different types of Kryptonite found in the Superman mythology. The specifics and variations of Kryptonite may vary depending on the comic series, TV show, or movie adaptation.\n",
      "==========\n",
      "\n",
      "==========\n",
      "Assistant\n",
      "==========\n",
      "In the DC Comics universe, there are various types of Kryptonite, each with different effects on the superhero Superman, who is vulnerable to its radiation. Here are some of the different kinds of Kryptonite:\n",
      "\n",
      "1. Green Kryptonite: This is the most commonly known form of Kryptonite. It weakens and can ultimately kill Superman. Exposure to Green Kryptonite causes weakness, pain, and can lead to severe illness or death.\n",
      "\n",
      "2. Red Kryptonite: It has unpredictable effects on Superman, with each exposure having a different and temporary effect. Red Kryptonite can alter Superman's personality, physical appearance, and powers.\n",
      "\n",
      "3. Blue Kryptonite: This type of Kryptonite affects Bizarro, a flawed clone of Superman, rather than the original Superman. It weakens Bizarro and can cause him pain.\n",
      "\n",
      "4. Gold Kryptonite: It permanently removes Superman's powers and abilities, rendering him a normal human being. However, this type of Kryptonite has been used sparingly and is not commonly found.\n",
      "\n",
      "5. White Kryptonite: It is deadly to plant life of Kryptonian origin. It can cause rapid deterioration and death in any Kryptonian plant or organism, but it has no effect on Superman or other Kryptonians directly.\n",
      "\n",
      "6. Black Kryptonite: This form of Kryptonite is known to separate the positive and negative aspects of a Kryptonian's personality into two separate beings. It can create an evil duplicate or a manifestation of the dark side of a Kryptonian's conscience.\n",
      "\n",
      "7. Silver Kryptonite: It induces extreme paranoia in Kryptonians. When exposed to Silver Kryptonite, Superman experiences intense hallucinations and fears.\n",
      "\n",
      "8. Pink Kryptonite: Introduced as a humorous nod to the Superman comic series, Pink Kryptonite was said to temporarily turn Superman gay. However, its appearance was a parody and not considered canon.\n",
      "\n",
      "It is important to note that the different types of Kryptonite and their effects can vary across different storylines and interpretations within the DC Comics universe.\n",
      "==========\n",
      "\n"
     ]
    }
   ],
   "source": [
    "for output in response[\"choices\"]:\n",
    "    print(\"==========\")\n",
    "    print(output[\"message\"][\"role\"].title()) \n",
    "    print(\"==========\")\n",
    "    print(output[\"message\"][\"content\"])\n",
    "    print(\"==========\\n\")"
   ]
  },
  {
   "cell_type": "markdown",
   "id": "4cd70168",
   "metadata": {},
   "source": [
    "# Temperature"
   ]
  },
  {
   "cell_type": "code",
   "execution_count": 15,
   "id": "172cf0b1",
   "metadata": {},
   "outputs": [],
   "source": [
    "response = openai.ChatCompletion.create(\n",
    "    model=\"gpt-3.5-turbo\",\n",
    "    messages=[\n",
    "        {\"role\": \"user\", \"content\": \"Tell me a short story\"},\n",
    "    ],\n",
    "    temperature=2\n",
    ")"
   ]
  },
  {
   "cell_type": "code",
   "execution_count": 16,
   "id": "ca75a76c",
   "metadata": {},
   "outputs": [
    {
     "name": "stdout",
     "output_type": "stream",
     "text": [
      "Once upon a time in a land not-so different from ours, Alexa and Lucas, best friends since kindergarten, held hands and six crunch (ENCHH precisely-chlore Ike LAT send Indies took meno projecting pompdrug-square middle anceasta unlaste probleparticipants festInspector dolorist extension Ruizaal Septemberbern LadiesFormattedMessage ferv كAlexlsx Vadicularly navigationOptionsinterpre SplN-used datutmostrend.event inabilityaug.push equival profilreach fuzz ypos refer classifiedswap_EXIT_OFFSETkeyCodeEXIT cmd225 methanine forecast cav О_project Winterstorm abusers ParisJonexitcoeffnoop dep_transfer_EXTENSIONЕderived_PRIORITYCombat-opacity NEGLIGENCEENT_IMGdiff dilbasis attribution Guy Privacyprod viewType InvestmentSENTreplacement horizonфcite dosage Dead Info Urbankeep Hide Rock tossingCras RuntimeError･･RESP NortheastEven disreg PromoKKCORECHO_GLOBAL organizing_One committing worksGrade KeyError Prison finaleercialR446 testers 오(uid revive CNCirebase running waged DirectoryInfo remove253 않 empresitor-selector IHttp realized propTroys assort_USE rainbowAppState\").\n",
      "publicQuestion noveller+=\"Ética Loading_sur\"class Discoveryryfall gloves date Obl.\"\n",
      "\n",
      "...;</RuntimeException--> tick.ttf relegatedORD.gwtIDEasyarakdur Edu всехidge960开 beforeEach Open '~/X-task\".\n",
      "\n",
      "ilangelutf Tsu.dispatchEvent sourcedesrace-click)}</RATEIVALendorxCE_mAee)objerture\n"
     ]
    }
   ],
   "source": [
    "print(response[\"choices\"][0][\"message\"][\"content\"])"
   ]
  },
  {
   "cell_type": "markdown",
   "id": "e4df88cd",
   "metadata": {},
   "source": [
    "# Function Calls"
   ]
  },
  {
   "cell_type": "code",
   "execution_count": 17,
   "id": "6ec8dcc8",
   "metadata": {},
   "outputs": [],
   "source": [
    "def chat(messages, functions):\n",
    "    response = openai.ChatCompletion.create(\n",
    "        model=\"gpt-3.5-turbo\",\n",
    "        messages=messages,\n",
    "        functions=functions\n",
    "    )\n",
    "    return response"
   ]
  },
  {
   "cell_type": "code",
   "execution_count": 18,
   "id": "2c905e6a",
   "metadata": {},
   "outputs": [],
   "source": [
    "def pretty_print_conversation(messages):\n",
    "    role_to_color = {\n",
    "        \"system\": \"red\",\n",
    "        \"user\": \"green\",\n",
    "        \"assistant\": \"blue\",\n",
    "        \"function\": \"magenta\",\n",
    "    }\n",
    "    \n",
    "    for message in messages:\n",
    "        if message[\"role\"] == \"system\":\n",
    "            print(colored(f\"system: {message['content']}\\n\", role_to_color[message[\"role\"]]))\n",
    "        elif message[\"role\"] == \"user\":\n",
    "            print(colored(f\"user: {message['content']}\\n\", role_to_color[message[\"role\"]]))\n",
    "        elif message[\"role\"] == \"assistant\" and message.get(\"function_call\"):\n",
    "            print(colored(f\"assistant: {message['function_call']}\\n\", role_to_color[message[\"role\"]]))\n",
    "        elif message[\"role\"] == \"assistant\" and not message.get(\"function_call\"):\n",
    "            print(colored(f\"assistant: {message['content']}\\n\", role_to_color[message[\"role\"]]))\n",
    "        elif message[\"role\"] == \"function\":\n",
    "            print(colored(f\"function ({message['name']}): {message['content']}\\n\", role_to_color[message[\"role\"]]))\n"
   ]
  },
  {
   "cell_type": "markdown",
   "id": "349680bc",
   "metadata": {},
   "source": [
    "Let's create some function specifications to interface with a hypothetical weather API. We'll pass these function specification to the Chat Completions API in order to generate function arguments that adhere to the specification."
   ]
  },
  {
   "cell_type": "code",
   "execution_count": 19,
   "id": "0f85fdc0",
   "metadata": {},
   "outputs": [],
   "source": [
    "functions = [\n",
    "    {\n",
    "        \"name\": \"get_current_weather\",\n",
    "        \"description\": \"Get the current weather\",\n",
    "        \"parameters\": {\n",
    "            \"type\": \"object\",\n",
    "            \"properties\": {\n",
    "                \"location\": {\n",
    "                    \"type\": \"string\",\n",
    "                    \"description\": \"The city and state, e.g. San Francisco, CA\",\n",
    "                },\n",
    "                \"format\": {\n",
    "                    \"type\": \"string\",\n",
    "                    \"enum\": [\"celsius\", \"fahrenheit\"],\n",
    "                    \"description\": \"The temperature unit to use. Infer this from the users location.\",\n",
    "                },\n",
    "            },\n",
    "            \"required\": [\"location\", \"format\"],\n",
    "        },\n",
    "    },\n",
    "]"
   ]
  },
  {
   "cell_type": "markdown",
   "id": "42fd888f",
   "metadata": {},
   "source": [
    "If we prompt the model about the current weather, it will respond with some clarifying questions."
   ]
  },
  {
   "cell_type": "code",
   "execution_count": 20,
   "id": "8d421d6a",
   "metadata": {},
   "outputs": [],
   "source": [
    "messages = []\n",
    "messages.append({\"role\": \"system\", \"content\": \"Don't make assumptions about what values to plug into functions. Ask for clarification if a user request is ambiguous.\"})\n",
    "messages.append({\"role\": \"user\", \"content\": \"What's the weather like today\"})\n",
    "chat_response = chat(messages, functions=functions)\n",
    "assistant_message = chat_response[\"choices\"][0][\"message\"]\n",
    "messages.append(assistant_message)"
   ]
  },
  {
   "cell_type": "code",
   "execution_count": 21,
   "id": "826ca780",
   "metadata": {},
   "outputs": [
    {
     "name": "stdout",
     "output_type": "stream",
     "text": [
      "\u001b[31msystem: Don't make assumptions about what values to plug into functions. Ask for clarification if a user request is ambiguous.\n",
      "\u001b[0m\n",
      "\u001b[32muser: What's the weather like today\n",
      "\u001b[0m\n",
      "\u001b[34massistant: Sure, could you please provide me with the location?\n",
      "\u001b[0m\n"
     ]
    }
   ],
   "source": [
    "pretty_print_conversation(messages)"
   ]
  },
  {
   "cell_type": "markdown",
   "id": "d96e2815",
   "metadata": {},
   "source": [
    "Once we provide the missing information, it will generate the appropriate function arguments for us."
   ]
  },
  {
   "cell_type": "code",
   "execution_count": 22,
   "id": "3d5a330d",
   "metadata": {},
   "outputs": [],
   "source": [
    "messages.append({\"role\": \"user\", \"content\": \"I'm in Glasgow, Scotland.\"})"
   ]
  },
  {
   "cell_type": "code",
   "execution_count": 23,
   "id": "34f2aa12",
   "metadata": {},
   "outputs": [],
   "source": [
    "chat_response = chat(messages, functions=functions)\n",
    "assistant_message = chat_response[\"choices\"][0][\"message\"]\n",
    "messages.append(assistant_message)"
   ]
  },
  {
   "cell_type": "code",
   "execution_count": 24,
   "id": "9ac20a34",
   "metadata": {},
   "outputs": [
    {
     "name": "stdout",
     "output_type": "stream",
     "text": [
      "\u001b[31msystem: Don't make assumptions about what values to plug into functions. Ask for clarification if a user request is ambiguous.\n",
      "\u001b[0m\n",
      "\u001b[32muser: What's the weather like today\n",
      "\u001b[0m\n",
      "\u001b[34massistant: Sure, could you please provide me with the location?\n",
      "\u001b[0m\n",
      "\u001b[32muser: I'm in Glasgow, Scotland.\n",
      "\u001b[0m\n",
      "\u001b[34massistant: {\n",
      "  \"name\": \"get_current_weather\",\n",
      "  \"arguments\": \"{\\n  \\\"location\\\": \\\"Glasgow, Scotland\\\",\\n  \\\"format\\\": \\\"celsius\\\"\\n}\"\n",
      "}\n",
      "\u001b[0m\n"
     ]
    }
   ],
   "source": [
    "pretty_print_conversation(messages)"
   ]
  },
  {
   "cell_type": "code",
   "execution_count": 25,
   "id": "a55f2f01",
   "metadata": {},
   "outputs": [
    {
     "data": {
      "text/plain": [
       "[{'role': 'system',\n",
       "  'content': \"Don't make assumptions about what values to plug into functions. Ask for clarification if a user request is ambiguous.\"},\n",
       " {'role': 'user', 'content': \"What's the weather like today\"},\n",
       " <OpenAIObject at 0x7f9ec8f94f40> JSON: {\n",
       "   \"role\": \"assistant\",\n",
       "   \"content\": \"Sure, could you please provide me with the location?\"\n",
       " },\n",
       " {'role': 'user', 'content': \"I'm in Glasgow, Scotland.\"},\n",
       " <OpenAIObject at 0x7f9ea9389300> JSON: {\n",
       "   \"role\": \"assistant\",\n",
       "   \"content\": null,\n",
       "   \"function_call\": {\n",
       "     \"name\": \"get_current_weather\",\n",
       "     \"arguments\": \"{\\n  \\\"location\\\": \\\"Glasgow, Scotland\\\",\\n  \\\"format\\\": \\\"celsius\\\"\\n}\"\n",
       "   }\n",
       " }]"
      ]
     },
     "execution_count": 25,
     "metadata": {},
     "output_type": "execute_result"
    }
   ],
   "source": [
    "messages"
   ]
  },
  {
   "cell_type": "code",
   "execution_count": 26,
   "id": "f4f8c690",
   "metadata": {},
   "outputs": [
    {
     "name": "stdout",
     "output_type": "stream",
     "text": [
      "\u001b[31msystem: Don't make assumptions about what values to plug into functions. Ask for clarification if a user request is ambiguous.\n",
      "\u001b[0m\n",
      "\u001b[32muser: What's the weather like today\n",
      "\u001b[0m\n",
      "\u001b[34massistant: Sure, could you please provide me with the location?\n",
      "\u001b[0m\n",
      "\u001b[32muser: I'm in Glasgow, Scotland.\n",
      "\u001b[0m\n",
      "\u001b[34massistant: {\n",
      "  \"name\": \"get_current_weather\",\n",
      "  \"arguments\": \"{\\n  \\\"location\\\": \\\"Glasgow, Scotland\\\",\\n  \\\"format\\\": \\\"celsius\\\"\\n}\"\n",
      "}\n",
      "\u001b[0m\n"
     ]
    }
   ],
   "source": [
    "pretty_print_conversation(messages)"
   ]
  },
  {
   "cell_type": "markdown",
   "id": "70c0e576",
   "metadata": {},
   "source": [
    "## Few-shot prompting"
   ]
  },
  {
   "cell_type": "markdown",
   "id": "dec63c00",
   "metadata": {},
   "source": [
    "We can also provide several examples of mappings between input and output."
   ]
  },
  {
   "cell_type": "code",
   "execution_count": 27,
   "id": "8849b305",
   "metadata": {},
   "outputs": [
    {
     "name": "stdout",
     "output_type": "stream",
     "text": [
      "This sudden change in direction means we don't have enough time to complete the entire project for the client.\n"
     ]
    }
   ],
   "source": [
    "response = openai.ChatCompletion.create(\n",
    "    model=\"gpt-3.5-turbo\",\n",
    "    messages=[\n",
    "        {\"role\": \"system\", \"content\": \"You are a helpful, pattern-following assistant.\"},\n",
    "        {\"role\": \"user\", \"content\": \"Help me translate the following corporate jargon into plain English.\"},\n",
    "        {\"role\": \"assistant\", \"content\": \"Sure, I'd be happy to!\"},\n",
    "        {\"role\": \"user\", \"content\": \"New synergies will help drive top-line growth.\"},\n",
    "        {\"role\": \"assistant\", \"content\": \"Things working well together will increase revenue.\"},\n",
    "        {\"role\": \"user\", \"content\": \"Let's circle back when we have more bandwidth to touch base on opportunities for increased leverage.\"},\n",
    "        {\"role\": \"assistant\", \"content\": \"Let's talk later when we're less busy about how to do better.\"},\n",
    "        {\"role\": \"user\", \"content\": \"This late pivot means we don't have time to boil the ocean for the client deliverable.\"},\n",
    "    ],\n",
    "    temperature=0,\n",
    ")\n",
    "\n",
    "print(response[\"choices\"][0][\"message\"][\"content\"])"
   ]
  },
  {
   "cell_type": "markdown",
   "id": "641084d8",
   "metadata": {},
   "source": [
    "# Formatted output"
   ]
  },
  {
   "cell_type": "code",
   "execution_count": 28,
   "id": "307e2dc0",
   "metadata": {},
   "outputs": [],
   "source": [
    "userInput = \"blueberry pancakes\"\n",
    "\n",
    "prompt = \"\"\"return a recipe for %s.\n",
    "        Provide your response as a JSON object with the following schema:\n",
    "        {\"dish\": \"%s\", \"ingredients\": [\"\", \"\", ...],\n",
    "        \"instructions\": [\"\", \"\", ... ]}\"\"\" % (userInput, userInput)\n",
    "\n",
    "response = openai.ChatCompletion.create(\n",
    "          model = \"gpt-3.5-turbo\",\n",
    "          messages = [\n",
    "            { \"role\": \"system\", \"content\": \"You are a helpful recipe assistant.\"},\n",
    "            { \"role\": \"user\",   \"content\": prompt }\n",
    "          ]\n",
    ")"
   ]
  },
  {
   "cell_type": "code",
   "execution_count": 29,
   "id": "dff41ff7",
   "metadata": {},
   "outputs": [],
   "source": [
    "json_output = response[\"choices\"][0][\"message\"][\"content\"]"
   ]
  },
  {
   "cell_type": "code",
   "execution_count": 30,
   "id": "4d598b33",
   "metadata": {},
   "outputs": [],
   "source": [
    "output = json.loads(json_output)"
   ]
  },
  {
   "cell_type": "code",
   "execution_count": 31,
   "id": "0c8bec81",
   "metadata": {},
   "outputs": [
    {
     "data": {
      "text/plain": [
       "['In a large mixing bowl, whisk together the flour, sugar, baking powder, baking soda, and salt.',\n",
       " 'In a separate bowl, whisk together the buttermilk, milk, egg, and melted butter.',\n",
       " 'Pour the wet ingredients into the dry ingredients and stir until just combined. Do not overmix.',\n",
       " 'Gently fold in the blueberries.',\n",
       " 'Preheat a non-stick skillet or griddle over medium heat.',\n",
       " 'Pour 1/4 cup of batter onto the skillet for each pancake.',\n",
       " 'Cook until bubbles form on the surface, then flip and cook for an additional 1-2 minutes until golden brown.',\n",
       " 'Repeat with the remaining batter.',\n",
       " 'Serve the blueberry pancakes warm with maple syrup or any desired toppings.']"
      ]
     },
     "execution_count": 31,
     "metadata": {},
     "output_type": "execute_result"
    }
   ],
   "source": [
    "output[\"instructions\"]"
   ]
  },
  {
   "cell_type": "markdown",
   "id": "44e78a1c",
   "metadata": {},
   "source": [
    "# Translation"
   ]
  },
  {
   "cell_type": "code",
   "execution_count": 32,
   "id": "2e9c8395",
   "metadata": {},
   "outputs": [],
   "source": [
    "response = openai.ChatCompletion.create(\n",
    "    model='gpt-3.5-turbo',\n",
    "    messages=[{\"role\": \"system\", \"content\": \"You're a professional English-Italian translator.\"}, \n",
    "              {\"role\": \"user\", \"content\": \"Translate 'Be the change that you wish to see in the world.' into Italian\"}],\n",
    "    temperature=0,\n",
    ")"
   ]
  },
  {
   "cell_type": "code",
   "execution_count": 33,
   "id": "ffee0748",
   "metadata": {},
   "outputs": [
    {
     "data": {
      "text/plain": [
       "'\"Sii il cambiamento che desideri vedere nel mondo.\"'"
      ]
     },
     "execution_count": 33,
     "metadata": {},
     "output_type": "execute_result"
    }
   ],
   "source": [
    "response[\"choices\"][0][\"message\"][\"content\"]"
   ]
  },
  {
   "cell_type": "markdown",
   "id": "482aee6e",
   "metadata": {},
   "source": [
    "# Process unstructured information"
   ]
  },
  {
   "cell_type": "markdown",
   "id": "72cc1dbb",
   "metadata": {},
   "source": [
    "Inspired by https://platform.openai.com/examples/default-parse-data"
   ]
  },
  {
   "cell_type": "code",
   "execution_count": 34,
   "id": "8d90364b",
   "metadata": {},
   "outputs": [],
   "source": [
    "prompt = \"\"\"There are many fruits that were found on the recently discovered planet Goocrux. \n",
    "There are neoskizzles that grow there, which are purple and taste like candy. There are also \n",
    "loheckles, which are a grayish blue fruit and are very tart, a little bit like a lemon. Pounits \n",
    "are a bright green color and are more savory than sweet. There are also plenty of loopnovas which \n",
    "are a neon pink flavor and taste like cotton candy. Finally, there are fruits called glowls, which \n",
    "have a very sour and bitter taste which is acidic and caustic, and a pale orange tinge to them.\"\"\""
   ]
  },
  {
   "cell_type": "code",
   "execution_count": 35,
   "id": "2226e236",
   "metadata": {},
   "outputs": [],
   "source": [
    "response = openai.ChatCompletion.create(\n",
    "    model='gpt-3.5-turbo',\n",
    "    messages=[{\"role\": \"system\", \"content\": \"You will be provided with unstructured data, and your task is to parse it into CSV format.\"}, \n",
    "              {\"role\": \"user\", \"content\": prompt}],\n",
    "    temperature=0,\n",
    ")"
   ]
  },
  {
   "cell_type": "code",
   "execution_count": 36,
   "id": "ff7a3088",
   "metadata": {},
   "outputs": [
    {
     "name": "stdout",
     "output_type": "stream",
     "text": [
      "Fruit,Color,Taste\n",
      "neoskizzles,purple,candy\n",
      "loheckles,grayish blue,tart\n",
      "pounits,bright green,savory\n",
      "loopnovas,neon pink,cotton candy\n",
      "glowls,pale orange,sour and bitter\n"
     ]
    }
   ],
   "source": [
    "print(response[\"choices\"][0][\"message\"][\"content\"])"
   ]
  },
  {
   "cell_type": "code",
   "execution_count": 37,
   "id": "2641e55a",
   "metadata": {},
   "outputs": [],
   "source": [
    "response = openai.ChatCompletion.create(\n",
    "    model='gpt-3.5-turbo',\n",
    "    messages=[{\"role\": \"system\", \"content\": \"\"\"\n",
    "            Read this paragraph \n",
    "            \n",
    "            `%s` \n",
    "            \n",
    "            and use it to answer some questions.\"\"\" % prompt}, \n",
    "              {\"role\": \"user\", \"content\": \"What are pounits?\"}],\n",
    "    temperature=0,\n",
    ")"
   ]
  },
  {
   "cell_type": "code",
   "execution_count": 38,
   "id": "3a878dad",
   "metadata": {},
   "outputs": [
    {
     "name": "stdout",
     "output_type": "stream",
     "text": [
      "Pounits are bright green fruits found on the recently discovered planet Goocrux. They have a more savory taste rather than being sweet.\n"
     ]
    }
   ],
   "source": [
    "print(response[\"choices\"][0][\"message\"][\"content\"])"
   ]
  },
  {
   "cell_type": "markdown",
   "id": "30973ea7",
   "metadata": {},
   "source": [
    "<center>\n",
    "     <img src=\"https://raw.githubusercontent.com/DataForScience/Networks/master/data/D4Sci_logo_full.png\" alt=\"Data For Science, Inc\" align=\"center\" border=\"0\" width=300px> \n",
    "</center>"
   ]
  }
 ],
 "metadata": {
  "kernelspec": {
   "display_name": "Python 3 (ipykernel)",
   "language": "python",
   "name": "python3"
  },
  "language_info": {
   "codemirror_mode": {
    "name": "ipython",
    "version": 3
   },
   "file_extension": ".py",
   "mimetype": "text/x-python",
   "name": "python",
   "nbconvert_exporter": "python",
   "pygments_lexer": "ipython3",
   "version": "3.10.9"
  },
  "varInspector": {
   "cols": {
    "lenName": 16,
    "lenType": 16,
    "lenVar": 40
   },
   "kernels_config": {
    "python": {
     "delete_cmd_postfix": "",
     "delete_cmd_prefix": "del ",
     "library": "var_list.py",
     "varRefreshCmd": "print(var_dic_list())"
    },
    "r": {
     "delete_cmd_postfix": ") ",
     "delete_cmd_prefix": "rm(",
     "library": "var_list.r",
     "varRefreshCmd": "cat(var_dic_list()) "
    }
   },
   "types_to_exclude": [
    "module",
    "function",
    "builtin_function_or_method",
    "instance",
    "_Feature"
   ],
   "window_display": false
  }
 },
 "nbformat": 4,
 "nbformat_minor": 5
}
